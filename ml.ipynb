{
 "nbformat": 4,
 "nbformat_minor": 2,
 "metadata": {
  "language_info": {
   "name": "python",
   "codemirror_mode": {
    "name": "ipython",
    "version": 3
   },
   "version": "3.7.6-final"
  },
  "orig_nbformat": 2,
  "file_extension": ".py",
  "mimetype": "text/x-python",
  "name": "python",
  "npconvert_exporter": "python",
  "pygments_lexer": "ipython3",
  "version": 3,
  "kernelspec": {
   "name": "python3",
   "display_name": "Python 3"
  }
 },
 "cells": [
  {
   "cell_type": "code",
   "execution_count": 2,
   "metadata": {},
   "outputs": [
    {
     "output_type": "execute_result",
     "data": {
      "text/plain": "      0     1       2     3     4     5     6     7     8     9     ...  1549  \\\n900     84    87  1.0357     1     0     0     0     0     0     0  ...     0   \n2295   160   180  1.1250     1     0     0     0     0     0     0  ...     0   \n368     55   416  7.5636     1     0     0     0     0     0     0  ...     0   \n1854    23    98  4.2608     1     0     0     0     0     0     0  ...     0   \n80      60   468  7.8000     1     0     0     0     0     0     0  ...     0   \n\n      1550  1551  1552  1553  1554  1555  1556  1557    1558  \n900      0     0     0     0     0     0     0     0  nonad.  \n2295     0     0     0     0     0     0     0     0  nonad.  \n368      0     0     0     0     0     0     0     0     ad.  \n1854     0     0     0     0     0     0     0     0  nonad.  \n80       0     0     0     0     0     0     0     0     ad.  \n\n[5 rows x 1559 columns]",
      "text/html": "<div>\n<style scoped>\n    .dataframe tbody tr th:only-of-type {\n        vertical-align: middle;\n    }\n\n    .dataframe tbody tr th {\n        vertical-align: top;\n    }\n\n    .dataframe thead th {\n        text-align: right;\n    }\n</style>\n<table border=\"1\" class=\"dataframe\">\n  <thead>\n    <tr style=\"text-align: right;\">\n      <th></th>\n      <th>0</th>\n      <th>1</th>\n      <th>2</th>\n      <th>3</th>\n      <th>4</th>\n      <th>5</th>\n      <th>6</th>\n      <th>7</th>\n      <th>8</th>\n      <th>9</th>\n      <th>...</th>\n      <th>1549</th>\n      <th>1550</th>\n      <th>1551</th>\n      <th>1552</th>\n      <th>1553</th>\n      <th>1554</th>\n      <th>1555</th>\n      <th>1556</th>\n      <th>1557</th>\n      <th>1558</th>\n    </tr>\n  </thead>\n  <tbody>\n    <tr>\n      <th>900</th>\n      <td>84</td>\n      <td>87</td>\n      <td>1.0357</td>\n      <td>1</td>\n      <td>0</td>\n      <td>0</td>\n      <td>0</td>\n      <td>0</td>\n      <td>0</td>\n      <td>0</td>\n      <td>...</td>\n      <td>0</td>\n      <td>0</td>\n      <td>0</td>\n      <td>0</td>\n      <td>0</td>\n      <td>0</td>\n      <td>0</td>\n      <td>0</td>\n      <td>0</td>\n      <td>nonad.</td>\n    </tr>\n    <tr>\n      <th>2295</th>\n      <td>160</td>\n      <td>180</td>\n      <td>1.1250</td>\n      <td>1</td>\n      <td>0</td>\n      <td>0</td>\n      <td>0</td>\n      <td>0</td>\n      <td>0</td>\n      <td>0</td>\n      <td>...</td>\n      <td>0</td>\n      <td>0</td>\n      <td>0</td>\n      <td>0</td>\n      <td>0</td>\n      <td>0</td>\n      <td>0</td>\n      <td>0</td>\n      <td>0</td>\n      <td>nonad.</td>\n    </tr>\n    <tr>\n      <th>368</th>\n      <td>55</td>\n      <td>416</td>\n      <td>7.5636</td>\n      <td>1</td>\n      <td>0</td>\n      <td>0</td>\n      <td>0</td>\n      <td>0</td>\n      <td>0</td>\n      <td>0</td>\n      <td>...</td>\n      <td>0</td>\n      <td>0</td>\n      <td>0</td>\n      <td>0</td>\n      <td>0</td>\n      <td>0</td>\n      <td>0</td>\n      <td>0</td>\n      <td>0</td>\n      <td>ad.</td>\n    </tr>\n    <tr>\n      <th>1854</th>\n      <td>23</td>\n      <td>98</td>\n      <td>4.2608</td>\n      <td>1</td>\n      <td>0</td>\n      <td>0</td>\n      <td>0</td>\n      <td>0</td>\n      <td>0</td>\n      <td>0</td>\n      <td>...</td>\n      <td>0</td>\n      <td>0</td>\n      <td>0</td>\n      <td>0</td>\n      <td>0</td>\n      <td>0</td>\n      <td>0</td>\n      <td>0</td>\n      <td>0</td>\n      <td>nonad.</td>\n    </tr>\n    <tr>\n      <th>80</th>\n      <td>60</td>\n      <td>468</td>\n      <td>7.8000</td>\n      <td>1</td>\n      <td>0</td>\n      <td>0</td>\n      <td>0</td>\n      <td>0</td>\n      <td>0</td>\n      <td>0</td>\n      <td>...</td>\n      <td>0</td>\n      <td>0</td>\n      <td>0</td>\n      <td>0</td>\n      <td>0</td>\n      <td>0</td>\n      <td>0</td>\n      <td>0</td>\n      <td>0</td>\n      <td>ad.</td>\n    </tr>\n  </tbody>\n</table>\n<p>5 rows × 1559 columns</p>\n</div>"
     },
     "metadata": {},
     "execution_count": 2
    }
   ],
   "source": [
    "import pandas as pd\n",
    "import numpy as np\n",
    "import pandas_profiling\n",
    "from sklearn import tree\n",
    "from sklearn.utils import shuffle \n",
    "from sklearn.model_selection import train_test_split, cross_val_score\n",
    "from sklearn.datasets import load_iris\n",
    "from sklearn.metrics import precision_recall_fscore_support\n",
    "from sklearn.metrics import classification_report\n",
    "\n",
    "data = pd.read_csv(\"data.csv\", header=None) #read the data\n",
    "data.sample(5)  #see what the data look like"
   ]
  },
  {
   "cell_type": "code",
   "execution_count": 3,
   "metadata": {},
   "outputs": [],
   "source": [
    "## replace labels. AD = 1; nonAD = 0\n",
    "data.replace('ad.', 1, inplace=True)\n",
    "data.replace('nonad.', 0, inplace=True)"
   ]
  },
  {
   "cell_type": "code",
   "execution_count": 4,
   "metadata": {},
   "outputs": [
    {
     "output_type": "execute_result",
     "data": {
      "text/plain": "      Total  Percent\n1558      0      0.0\n534       0      0.0\n512       0      0.0\n513       0      0.0\n514       0      0.0\n...     ...      ...\n1041      0      0.0\n1042      0      0.0\n1043      0      0.0\n1044      0      0.0\n0         0      0.0\n\n[1559 rows x 2 columns]",
      "text/html": "<div>\n<style scoped>\n    .dataframe tbody tr th:only-of-type {\n        vertical-align: middle;\n    }\n\n    .dataframe tbody tr th {\n        vertical-align: top;\n    }\n\n    .dataframe thead th {\n        text-align: right;\n    }\n</style>\n<table border=\"1\" class=\"dataframe\">\n  <thead>\n    <tr style=\"text-align: right;\">\n      <th></th>\n      <th>Total</th>\n      <th>Percent</th>\n    </tr>\n  </thead>\n  <tbody>\n    <tr>\n      <th>1558</th>\n      <td>0</td>\n      <td>0.0</td>\n    </tr>\n    <tr>\n      <th>534</th>\n      <td>0</td>\n      <td>0.0</td>\n    </tr>\n    <tr>\n      <th>512</th>\n      <td>0</td>\n      <td>0.0</td>\n    </tr>\n    <tr>\n      <th>513</th>\n      <td>0</td>\n      <td>0.0</td>\n    </tr>\n    <tr>\n      <th>514</th>\n      <td>0</td>\n      <td>0.0</td>\n    </tr>\n    <tr>\n      <th>...</th>\n      <td>...</td>\n      <td>...</td>\n    </tr>\n    <tr>\n      <th>1041</th>\n      <td>0</td>\n      <td>0.0</td>\n    </tr>\n    <tr>\n      <th>1042</th>\n      <td>0</td>\n      <td>0.0</td>\n    </tr>\n    <tr>\n      <th>1043</th>\n      <td>0</td>\n      <td>0.0</td>\n    </tr>\n    <tr>\n      <th>1044</th>\n      <td>0</td>\n      <td>0.0</td>\n    </tr>\n    <tr>\n      <th>0</th>\n      <td>0</td>\n      <td>0.0</td>\n    </tr>\n  </tbody>\n</table>\n<p>1559 rows × 2 columns</p>\n</div>"
     },
     "metadata": {},
     "execution_count": 4
    }
   ],
   "source": [
    "##  check missing values\n",
    "def missing_percentage(df):\n",
    "    \"\"\"This function takes a DataFrame(df) as input and returns two columns:\n",
    "        * total missing values\n",
    "        * total missing values percentage\"\"\"\n",
    "    total = df.isnull().sum().sort_values(ascending = False)\n",
    "    percent = round(df.isnull().sum().sort_values(ascending = False)/len(df)*100,2)\n",
    "    return pd.concat([total, percent], axis=1, keys=['Total','Percent'])\n",
    "\n",
    "# apply the function to the data\n",
    "missing_percentage(data)"
   ]
  },
  {
   "cell_type": "code",
   "execution_count": 5,
   "metadata": {},
   "outputs": [],
   "source": [
    "### create train and test sets\n",
    "df_label = pd.DataFrame(data, columns=[1558]) #extra the last column which is the label\n",
    "df_data = pd.DataFrame.drop(data, columns = [1558]) #delete the last label column\n",
    "\n",
    "#30% data are splitted into test data set, they are shuffled\n",
    "X_train, X_test, y_train, y_test = train_test_split(df_data, df_label, test_size = 0.3, random_state = 40)"
   ]
  },
  {
   "cell_type": "code",
   "execution_count": 6,
   "metadata": {},
   "outputs": [
    {
     "output_type": "execute_result",
     "data": {
      "text/plain": "              0            1            2            3            4     \\\ncount  1651.000000  1651.000000  1651.000000  1651.000000  1651.000000   \nmean     63.448819   156.073289     3.959404     0.764991     0.001211   \nstd      54.521547   131.833762     6.348432     0.424133     0.034794   \nmin       1.000000     1.000000     0.001500     0.000000     0.000000   \n25%      25.000000    80.000000     1.037500     1.000000     0.000000   \n50%      51.000000   110.000000     2.086900     1.000000     0.000000   \n75%      80.000000   184.000000     5.333300     1.000000     0.000000   \nmax     640.000000   640.000000    60.000000     1.000000     1.000000   \n\n         5            6            7            8            9     ...  \\\ncount  1651.0  1651.000000  1651.000000  1651.000000  1651.000000  ...   \nmean      0.0     0.006663     0.004846     0.003634     0.014537  ...   \nstd       0.0     0.081377     0.069462     0.060193     0.119725  ...   \nmin       0.0     0.000000     0.000000     0.000000     0.000000  ...   \n25%       0.0     0.000000     0.000000     0.000000     0.000000  ...   \n50%       0.0     0.000000     0.000000     0.000000     0.000000  ...   \n75%       0.0     0.000000     0.000000     0.000000     0.000000  ...   \nmax       0.0     1.000000     1.000000     1.000000     1.000000  ...   \n\n              1548         1549         1550         1551         1552  \\\ncount  1651.000000  1651.000000  1651.000000  1651.000000  1651.000000   \nmean      0.001817     0.003634     0.001211     0.001817     0.003028   \nstd       0.042601     0.060193     0.034794     0.042601     0.054965   \nmin       0.000000     0.000000     0.000000     0.000000     0.000000   \n25%       0.000000     0.000000     0.000000     0.000000     0.000000   \n50%       0.000000     0.000000     0.000000     0.000000     0.000000   \n75%       0.000000     0.000000     0.000000     0.000000     0.000000   \nmax       1.000000     1.000000     1.000000     1.000000     1.000000   \n\n              1553         1554         1555         1556         1557  \ncount  1651.000000  1651.000000  1651.000000  1651.000000  1651.000000  \nmean      0.009085     0.012114     0.013931     0.010902     0.001211  \nstd       0.094912     0.109427     0.117240     0.103876     0.034794  \nmin       0.000000     0.000000     0.000000     0.000000     0.000000  \n25%       0.000000     0.000000     0.000000     0.000000     0.000000  \n50%       0.000000     0.000000     0.000000     0.000000     0.000000  \n75%       0.000000     0.000000     0.000000     0.000000     0.000000  \nmax       1.000000     1.000000     1.000000     1.000000     1.000000  \n\n[8 rows x 1558 columns]",
      "text/html": "<div>\n<style scoped>\n    .dataframe tbody tr th:only-of-type {\n        vertical-align: middle;\n    }\n\n    .dataframe tbody tr th {\n        vertical-align: top;\n    }\n\n    .dataframe thead th {\n        text-align: right;\n    }\n</style>\n<table border=\"1\" class=\"dataframe\">\n  <thead>\n    <tr style=\"text-align: right;\">\n      <th></th>\n      <th>0</th>\n      <th>1</th>\n      <th>2</th>\n      <th>3</th>\n      <th>4</th>\n      <th>5</th>\n      <th>6</th>\n      <th>7</th>\n      <th>8</th>\n      <th>9</th>\n      <th>...</th>\n      <th>1548</th>\n      <th>1549</th>\n      <th>1550</th>\n      <th>1551</th>\n      <th>1552</th>\n      <th>1553</th>\n      <th>1554</th>\n      <th>1555</th>\n      <th>1556</th>\n      <th>1557</th>\n    </tr>\n  </thead>\n  <tbody>\n    <tr>\n      <th>count</th>\n      <td>1651.000000</td>\n      <td>1651.000000</td>\n      <td>1651.000000</td>\n      <td>1651.000000</td>\n      <td>1651.000000</td>\n      <td>1651.0</td>\n      <td>1651.000000</td>\n      <td>1651.000000</td>\n      <td>1651.000000</td>\n      <td>1651.000000</td>\n      <td>...</td>\n      <td>1651.000000</td>\n      <td>1651.000000</td>\n      <td>1651.000000</td>\n      <td>1651.000000</td>\n      <td>1651.000000</td>\n      <td>1651.000000</td>\n      <td>1651.000000</td>\n      <td>1651.000000</td>\n      <td>1651.000000</td>\n      <td>1651.000000</td>\n    </tr>\n    <tr>\n      <th>mean</th>\n      <td>63.448819</td>\n      <td>156.073289</td>\n      <td>3.959404</td>\n      <td>0.764991</td>\n      <td>0.001211</td>\n      <td>0.0</td>\n      <td>0.006663</td>\n      <td>0.004846</td>\n      <td>0.003634</td>\n      <td>0.014537</td>\n      <td>...</td>\n      <td>0.001817</td>\n      <td>0.003634</td>\n      <td>0.001211</td>\n      <td>0.001817</td>\n      <td>0.003028</td>\n      <td>0.009085</td>\n      <td>0.012114</td>\n      <td>0.013931</td>\n      <td>0.010902</td>\n      <td>0.001211</td>\n    </tr>\n    <tr>\n      <th>std</th>\n      <td>54.521547</td>\n      <td>131.833762</td>\n      <td>6.348432</td>\n      <td>0.424133</td>\n      <td>0.034794</td>\n      <td>0.0</td>\n      <td>0.081377</td>\n      <td>0.069462</td>\n      <td>0.060193</td>\n      <td>0.119725</td>\n      <td>...</td>\n      <td>0.042601</td>\n      <td>0.060193</td>\n      <td>0.034794</td>\n      <td>0.042601</td>\n      <td>0.054965</td>\n      <td>0.094912</td>\n      <td>0.109427</td>\n      <td>0.117240</td>\n      <td>0.103876</td>\n      <td>0.034794</td>\n    </tr>\n    <tr>\n      <th>min</th>\n      <td>1.000000</td>\n      <td>1.000000</td>\n      <td>0.001500</td>\n      <td>0.000000</td>\n      <td>0.000000</td>\n      <td>0.0</td>\n      <td>0.000000</td>\n      <td>0.000000</td>\n      <td>0.000000</td>\n      <td>0.000000</td>\n      <td>...</td>\n      <td>0.000000</td>\n      <td>0.000000</td>\n      <td>0.000000</td>\n      <td>0.000000</td>\n      <td>0.000000</td>\n      <td>0.000000</td>\n      <td>0.000000</td>\n      <td>0.000000</td>\n      <td>0.000000</td>\n      <td>0.000000</td>\n    </tr>\n    <tr>\n      <th>25%</th>\n      <td>25.000000</td>\n      <td>80.000000</td>\n      <td>1.037500</td>\n      <td>1.000000</td>\n      <td>0.000000</td>\n      <td>0.0</td>\n      <td>0.000000</td>\n      <td>0.000000</td>\n      <td>0.000000</td>\n      <td>0.000000</td>\n      <td>...</td>\n      <td>0.000000</td>\n      <td>0.000000</td>\n      <td>0.000000</td>\n      <td>0.000000</td>\n      <td>0.000000</td>\n      <td>0.000000</td>\n      <td>0.000000</td>\n      <td>0.000000</td>\n      <td>0.000000</td>\n      <td>0.000000</td>\n    </tr>\n    <tr>\n      <th>50%</th>\n      <td>51.000000</td>\n      <td>110.000000</td>\n      <td>2.086900</td>\n      <td>1.000000</td>\n      <td>0.000000</td>\n      <td>0.0</td>\n      <td>0.000000</td>\n      <td>0.000000</td>\n      <td>0.000000</td>\n      <td>0.000000</td>\n      <td>...</td>\n      <td>0.000000</td>\n      <td>0.000000</td>\n      <td>0.000000</td>\n      <td>0.000000</td>\n      <td>0.000000</td>\n      <td>0.000000</td>\n      <td>0.000000</td>\n      <td>0.000000</td>\n      <td>0.000000</td>\n      <td>0.000000</td>\n    </tr>\n    <tr>\n      <th>75%</th>\n      <td>80.000000</td>\n      <td>184.000000</td>\n      <td>5.333300</td>\n      <td>1.000000</td>\n      <td>0.000000</td>\n      <td>0.0</td>\n      <td>0.000000</td>\n      <td>0.000000</td>\n      <td>0.000000</td>\n      <td>0.000000</td>\n      <td>...</td>\n      <td>0.000000</td>\n      <td>0.000000</td>\n      <td>0.000000</td>\n      <td>0.000000</td>\n      <td>0.000000</td>\n      <td>0.000000</td>\n      <td>0.000000</td>\n      <td>0.000000</td>\n      <td>0.000000</td>\n      <td>0.000000</td>\n    </tr>\n    <tr>\n      <th>max</th>\n      <td>640.000000</td>\n      <td>640.000000</td>\n      <td>60.000000</td>\n      <td>1.000000</td>\n      <td>1.000000</td>\n      <td>0.0</td>\n      <td>1.000000</td>\n      <td>1.000000</td>\n      <td>1.000000</td>\n      <td>1.000000</td>\n      <td>...</td>\n      <td>1.000000</td>\n      <td>1.000000</td>\n      <td>1.000000</td>\n      <td>1.000000</td>\n      <td>1.000000</td>\n      <td>1.000000</td>\n      <td>1.000000</td>\n      <td>1.000000</td>\n      <td>1.000000</td>\n      <td>1.000000</td>\n    </tr>\n  </tbody>\n</table>\n<p>8 rows × 1558 columns</p>\n</div>"
     },
     "metadata": {},
     "execution_count": 6
    }
   ],
   "source": [
    "X_train.describe()"
   ]
  },
  {
   "cell_type": "code",
   "execution_count": null,
   "metadata": {},
   "outputs": [],
   "source": [
    "## Feature scaling\n",
    "# As we can see, the change of first three factors is very large, and the last factors are binary\n",
    "# Through feature scaling, all features could be  \n",
    ""
   ]
  },
  {
   "cell_type": "code",
   "execution_count": 7,
   "metadata": {},
   "outputs": [
    {
     "output_type": "execute_result",
     "data": {
      "text/plain": "GridSearchCV(cv=None, error_score=nan,\n             estimator=DecisionTreeClassifier(ccp_alpha=0.0, class_weight=None,\n                                              criterion='gini', max_depth=None,\n                                              max_features=None,\n                                              max_leaf_nodes=None,\n                                              min_impurity_decrease=0.0,\n                                              min_impurity_split=None,\n                                              min_samples_leaf=1,\n                                              min_samples_split=2,\n                                              min_weight_fraction_leaf=0.0,\n                                              presort='deprecated',\n                                              random_state=None,\n                                              splitter='best'),\n             iid='deprecated', n_jobs=None,\n             param_grid={'criterion': ['entropy'], 'max_depth': range(1, 30)},\n             pre_dispatch='2*n_jobs', refit=True, return_train_score=True,\n             scoring=None, verbose=False)"
     },
     "metadata": {},
     "execution_count": 7
    }
   ],
   "source": [
    "from sklearn.model_selection import GridSearchCV\n",
    "from sklearn.tree import DecisionTreeClassifier\n",
    "## model 1: decision tree \n",
    "\n",
    "# set parameters\n",
    "max_depth = range(1,30)\n",
    "criterion = [\"entropy\"]\n",
    "param = {'max_depth':max_depth, 'criterion':criterion}\n",
    "\n",
    "# search the best parameters\n",
    "grid = GridSearchCV(DecisionTreeClassifier(), param_grid= param, verbose=False, return_train_score=True)\n",
    "\n",
    "grid.fit(X_train, y_train) #fit the model"
   ]
  },
  {
   "cell_type": "code",
   "execution_count": 8,
   "metadata": {},
   "outputs": [
    {
     "output_type": "stream",
     "name": "stdout",
     "text": "{'criterion': 'entropy', 'max_depth': 11}\n0.97214684610455\nDecisionTreeClassifier(ccp_alpha=0.0, class_weight=None, criterion='entropy',\n                       max_depth=11, max_features=None, max_leaf_nodes=None,\n                       min_impurity_decrease=0.0, min_impurity_split=None,\n                       min_samples_leaf=1, min_samples_split=2,\n                       min_weight_fraction_leaf=0.0, presort='deprecated',\n                       random_state=None, splitter='best')\n"
    }
   ],
   "source": [
    "## print parameters and scores\n",
    "print(grid.best_params_)\n",
    "print(grid.best_score_)\n",
    "print(grid.best_estimator_)"
   ]
  },
  {
   "cell_type": "code",
   "execution_count": 9,
   "metadata": {},
   "outputs": [
    {
     "output_type": "execute_result",
     "data": {
      "text/plain": "0.9915202907328892"
     },
     "metadata": {},
     "execution_count": 9
    }
   ],
   "source": [
    "dt = grid.best_estimator_\n",
    "dt.score(X_train, y_train)"
   ]
  },
  {
   "cell_type": "code",
   "execution_count": 10,
   "metadata": {},
   "outputs": [
    {
     "output_type": "execute_result",
     "data": {
      "text/plain": "<graphviz.files.Source at 0x10ebb5050>",
      "image/svg+xml": "<?xml version=\"1.0\" encoding=\"UTF-8\" standalone=\"no\"?>\n<!DOCTYPE svg PUBLIC \"-//W3C//DTD SVG 1.1//EN\"\n \"http://www.w3.org/Graphics/SVG/1.1/DTD/svg11.dtd\">\n<!-- Generated by graphviz version 2.40.1 (20161225.0304)\n -->\n<!-- Title: Tree Pages: 1 -->\n<svg width=\"2192pt\" height=\"1205pt\"\n viewBox=\"0.00 0.00 2191.50 1205.00\" xmlns=\"http://www.w3.org/2000/svg\" xmlns:xlink=\"http://www.w3.org/1999/xlink\">\n<g id=\"graph0\" class=\"graph\" transform=\"scale(1 1) rotate(0) translate(4 1201)\">\n<title>Tree</title>\n<polygon fill=\"#ffffff\" stroke=\"transparent\" points=\"-4,4 -4,-1201 2187.5,-1201 2187.5,4 -4,4\"/>\n<!-- 0 -->\n<g id=\"node1\" class=\"node\">\n<title>0</title>\n<polygon fill=\"none\" stroke=\"#000000\" points=\"1640.5,-1197 1513.5,-1197 1513.5,-1129 1640.5,-1129 1640.5,-1197\"/>\n<text text-anchor=\"middle\" x=\"1577\" y=\"-1181.8\" font-family=\"Times,serif\" font-size=\"14.00\" fill=\"#000000\">X[1] &lt;= 390.5</text>\n<text text-anchor=\"middle\" x=\"1577\" y=\"-1166.8\" font-family=\"Times,serif\" font-size=\"14.00\" fill=\"#000000\">entropy = 0.64</text>\n<text text-anchor=\"middle\" x=\"1577\" y=\"-1151.8\" font-family=\"Times,serif\" font-size=\"14.00\" fill=\"#000000\">samples = 1651</text>\n<text text-anchor=\"middle\" x=\"1577\" y=\"-1136.8\" font-family=\"Times,serif\" font-size=\"14.00\" fill=\"#000000\">value = [1383, 268]</text>\n</g>\n<!-- 1 -->\n<g id=\"node2\" class=\"node\">\n<title>1</title>\n<polygon fill=\"none\" stroke=\"#000000\" points=\"1523.5,-1093 1396.5,-1093 1396.5,-1025 1523.5,-1025 1523.5,-1093\"/>\n<text text-anchor=\"middle\" x=\"1460\" y=\"-1077.8\" font-family=\"Times,serif\" font-size=\"14.00\" fill=\"#000000\">X[1243] &lt;= 0.5</text>\n<text text-anchor=\"middle\" x=\"1460\" y=\"-1062.8\" font-family=\"Times,serif\" font-size=\"14.00\" fill=\"#000000\">entropy = 0.386</text>\n<text text-anchor=\"middle\" x=\"1460\" y=\"-1047.8\" font-family=\"Times,serif\" font-size=\"14.00\" fill=\"#000000\">samples = 1456</text>\n<text text-anchor=\"middle\" x=\"1460\" y=\"-1032.8\" font-family=\"Times,serif\" font-size=\"14.00\" fill=\"#000000\">value = [1346, 110]</text>\n</g>\n<!-- 0&#45;&gt;1 -->\n<g id=\"edge1\" class=\"edge\">\n<title>0&#45;&gt;1</title>\n<path fill=\"none\" stroke=\"#000000\" d=\"M1538.6898,-1128.9465C1528.2859,-1119.6986 1516.911,-1109.5876 1506.1243,-1099.9994\"/>\n<polygon fill=\"#000000\" stroke=\"#000000\" points=\"1508.1956,-1097.1577 1498.3962,-1093.13 1503.5451,-1102.3896 1508.1956,-1097.1577\"/>\n<text text-anchor=\"middle\" x=\"1499.8643\" y=\"-1114.3869\" font-family=\"Times,serif\" font-size=\"14.00\" fill=\"#000000\">True</text>\n</g>\n<!-- 50 -->\n<g id=\"node51\" class=\"node\">\n<title>50</title>\n<polygon fill=\"none\" stroke=\"#000000\" points=\"1837.5,-1093 1724.5,-1093 1724.5,-1025 1837.5,-1025 1837.5,-1093\"/>\n<text text-anchor=\"middle\" x=\"1781\" y=\"-1077.8\" font-family=\"Times,serif\" font-size=\"14.00\" fill=\"#000000\">X[2] &lt;= 9.091</text>\n<text text-anchor=\"middle\" x=\"1781\" y=\"-1062.8\" font-family=\"Times,serif\" font-size=\"14.00\" fill=\"#000000\">entropy = 0.701</text>\n<text text-anchor=\"middle\" x=\"1781\" y=\"-1047.8\" font-family=\"Times,serif\" font-size=\"14.00\" fill=\"#000000\">samples = 195</text>\n<text text-anchor=\"middle\" x=\"1781\" y=\"-1032.8\" font-family=\"Times,serif\" font-size=\"14.00\" fill=\"#000000\">value = [37, 158]</text>\n</g>\n<!-- 0&#45;&gt;50 -->\n<g id=\"edge50\" class=\"edge\">\n<title>0&#45;&gt;50</title>\n<path fill=\"none\" stroke=\"#000000\" d=\"M1640.7077,-1130.5215C1664.4465,-1118.4194 1691.4224,-1104.667 1715.3339,-1092.4768\"/>\n<polygon fill=\"#000000\" stroke=\"#000000\" points=\"1717.0156,-1095.5481 1724.335,-1087.888 1713.8362,-1089.3118 1717.0156,-1095.5481\"/>\n<text text-anchor=\"middle\" x=\"1716.6148\" y=\"-1107.9662\" font-family=\"Times,serif\" font-size=\"14.00\" fill=\"#000000\">False</text>\n</g>\n<!-- 2 -->\n<g id=\"node3\" class=\"node\">\n<title>2</title>\n<polygon fill=\"none\" stroke=\"#000000\" points=\"1205,-989 1085,-989 1085,-921 1205,-921 1205,-989\"/>\n<text text-anchor=\"middle\" x=\"1145\" y=\"-973.8\" font-family=\"Times,serif\" font-size=\"14.00\" fill=\"#000000\">X[351] &lt;= 0.5</text>\n<text text-anchor=\"middle\" x=\"1145\" y=\"-958.8\" font-family=\"Times,serif\" font-size=\"14.00\" fill=\"#000000\">entropy = 0.27</text>\n<text text-anchor=\"middle\" x=\"1145\" y=\"-943.8\" font-family=\"Times,serif\" font-size=\"14.00\" fill=\"#000000\">samples = 1407</text>\n<text text-anchor=\"middle\" x=\"1145\" y=\"-928.8\" font-family=\"Times,serif\" font-size=\"14.00\" fill=\"#000000\">value = [1342, 65]</text>\n</g>\n<!-- 1&#45;&gt;2 -->\n<g id=\"edge2\" class=\"edge\">\n<title>1&#45;&gt;2</title>\n<path fill=\"none\" stroke=\"#000000\" d=\"M1396.255,-1037.954C1343.5971,-1020.5686 1268.9557,-995.9251 1214.7188,-978.0183\"/>\n<polygon fill=\"#000000\" stroke=\"#000000\" points=\"1215.7725,-974.6804 1205.1793,-974.8687 1213.5778,-981.3275 1215.7725,-974.6804\"/>\n</g>\n<!-- 39 -->\n<g id=\"node40\" class=\"node\">\n<title>39</title>\n<polygon fill=\"none\" stroke=\"#000000\" points=\"1513,-989 1407,-989 1407,-921 1513,-921 1513,-989\"/>\n<text text-anchor=\"middle\" x=\"1460\" y=\"-973.8\" font-family=\"Times,serif\" font-size=\"14.00\" fill=\"#000000\">X[570] &lt;= 0.5</text>\n<text text-anchor=\"middle\" x=\"1460\" y=\"-958.8\" font-family=\"Times,serif\" font-size=\"14.00\" fill=\"#000000\">entropy = 0.408</text>\n<text text-anchor=\"middle\" x=\"1460\" y=\"-943.8\" font-family=\"Times,serif\" font-size=\"14.00\" fill=\"#000000\">samples = 49</text>\n<text text-anchor=\"middle\" x=\"1460\" y=\"-928.8\" font-family=\"Times,serif\" font-size=\"14.00\" fill=\"#000000\">value = [4, 45]</text>\n</g>\n<!-- 1&#45;&gt;39 -->\n<g id=\"edge39\" class=\"edge\">\n<title>1&#45;&gt;39</title>\n<path fill=\"none\" stroke=\"#000000\" d=\"M1460,-1024.9465C1460,-1016.776 1460,-1007.9318 1460,-999.3697\"/>\n<polygon fill=\"#000000\" stroke=\"#000000\" points=\"1463.5001,-999.13 1460,-989.13 1456.5001,-999.13 1463.5001,-999.13\"/>\n</g>\n<!-- 3 -->\n<g id=\"node4\" class=\"node\">\n<title>3</title>\n<polygon fill=\"none\" stroke=\"#000000\" points=\"1029,-885 909,-885 909,-817 1029,-817 1029,-885\"/>\n<text text-anchor=\"middle\" x=\"969\" y=\"-869.8\" font-family=\"Times,serif\" font-size=\"14.00\" fill=\"#000000\">X[1229] &lt;= 0.5</text>\n<text text-anchor=\"middle\" x=\"969\" y=\"-854.8\" font-family=\"Times,serif\" font-size=\"14.00\" fill=\"#000000\">entropy = 0.217</text>\n<text text-anchor=\"middle\" x=\"969\" y=\"-839.8\" font-family=\"Times,serif\" font-size=\"14.00\" fill=\"#000000\">samples = 1387</text>\n<text text-anchor=\"middle\" x=\"969\" y=\"-824.8\" font-family=\"Times,serif\" font-size=\"14.00\" fill=\"#000000\">value = [1339, 48]</text>\n</g>\n<!-- 2&#45;&gt;3 -->\n<g id=\"edge3\" class=\"edge\">\n<title>2&#45;&gt;3</title>\n<path fill=\"none\" stroke=\"#000000\" d=\"M1087.371,-920.9465C1070.8091,-911.1599 1052.6112,-900.4066 1035.5575,-890.3294\"/>\n<polygon fill=\"#000000\" stroke=\"#000000\" points=\"1037.1483,-887.2041 1026.7585,-885.13 1033.5872,-893.2306 1037.1483,-887.2041\"/>\n</g>\n<!-- 34 -->\n<g id=\"node35\" class=\"node\">\n<title>34</title>\n<polygon fill=\"none\" stroke=\"#000000\" points=\"1194.5,-885 1095.5,-885 1095.5,-817 1194.5,-817 1194.5,-885\"/>\n<text text-anchor=\"middle\" x=\"1145\" y=\"-869.8\" font-family=\"Times,serif\" font-size=\"14.00\" fill=\"#000000\">X[1] &lt;= 89.0</text>\n<text text-anchor=\"middle\" x=\"1145\" y=\"-854.8\" font-family=\"Times,serif\" font-size=\"14.00\" fill=\"#000000\">entropy = 0.61</text>\n<text text-anchor=\"middle\" x=\"1145\" y=\"-839.8\" font-family=\"Times,serif\" font-size=\"14.00\" fill=\"#000000\">samples = 20</text>\n<text text-anchor=\"middle\" x=\"1145\" y=\"-824.8\" font-family=\"Times,serif\" font-size=\"14.00\" fill=\"#000000\">value = [3, 17]</text>\n</g>\n<!-- 2&#45;&gt;34 -->\n<g id=\"edge34\" class=\"edge\">\n<title>2&#45;&gt;34</title>\n<path fill=\"none\" stroke=\"#000000\" d=\"M1145,-920.9465C1145,-912.776 1145,-903.9318 1145,-895.3697\"/>\n<polygon fill=\"#000000\" stroke=\"#000000\" points=\"1148.5001,-895.13 1145,-885.13 1141.5001,-895.13 1148.5001,-895.13\"/>\n</g>\n<!-- 4 -->\n<g id=\"node5\" class=\"node\">\n<title>4</title>\n<polygon fill=\"none\" stroke=\"#000000\" points=\"905,-781 785,-781 785,-713 905,-713 905,-781\"/>\n<text text-anchor=\"middle\" x=\"845\" y=\"-765.8\" font-family=\"Times,serif\" font-size=\"14.00\" fill=\"#000000\">X[1483] &lt;= 0.5</text>\n<text text-anchor=\"middle\" x=\"845\" y=\"-750.8\" font-family=\"Times,serif\" font-size=\"14.00\" fill=\"#000000\">entropy = 0.196</text>\n<text text-anchor=\"middle\" x=\"845\" y=\"-735.8\" font-family=\"Times,serif\" font-size=\"14.00\" fill=\"#000000\">samples = 1381</text>\n<text text-anchor=\"middle\" x=\"845\" y=\"-720.8\" font-family=\"Times,serif\" font-size=\"14.00\" fill=\"#000000\">value = [1339, 42]</text>\n</g>\n<!-- 3&#45;&gt;4 -->\n<g id=\"edge4\" class=\"edge\">\n<title>3&#45;&gt;4</title>\n<path fill=\"none\" stroke=\"#000000\" d=\"M928.3978,-816.9465C917.2644,-807.6088 905.0817,-797.3911 893.5511,-787.7203\"/>\n<polygon fill=\"#000000\" stroke=\"#000000\" points=\"895.6046,-784.8745 885.6935,-781.13 891.1062,-790.2378 895.6046,-784.8745\"/>\n</g>\n<!-- 33 -->\n<g id=\"node34\" class=\"node\">\n<title>33</title>\n<polygon fill=\"none\" stroke=\"#000000\" points=\"1015,-773.5 923,-773.5 923,-720.5 1015,-720.5 1015,-773.5\"/>\n<text text-anchor=\"middle\" x=\"969\" y=\"-758.3\" font-family=\"Times,serif\" font-size=\"14.00\" fill=\"#000000\">entropy = 0.0</text>\n<text text-anchor=\"middle\" x=\"969\" y=\"-743.3\" font-family=\"Times,serif\" font-size=\"14.00\" fill=\"#000000\">samples = 6</text>\n<text text-anchor=\"middle\" x=\"969\" y=\"-728.3\" font-family=\"Times,serif\" font-size=\"14.00\" fill=\"#000000\">value = [0, 6]</text>\n</g>\n<!-- 3&#45;&gt;33 -->\n<g id=\"edge33\" class=\"edge\">\n<title>3&#45;&gt;33</title>\n<path fill=\"none\" stroke=\"#000000\" d=\"M969,-816.9465C969,-806.2621 969,-794.4254 969,-783.5742\"/>\n<polygon fill=\"#000000\" stroke=\"#000000\" points=\"972.5001,-783.5421 969,-773.5422 965.5001,-783.5422 972.5001,-783.5421\"/>\n</g>\n<!-- 5 -->\n<g id=\"node6\" class=\"node\">\n<title>5</title>\n<polygon fill=\"none\" stroke=\"#000000\" points=\"793,-677 673,-677 673,-609 793,-609 793,-677\"/>\n<text text-anchor=\"middle\" x=\"733\" y=\"-661.8\" font-family=\"Times,serif\" font-size=\"14.00\" fill=\"#000000\">X[246] &lt;= 0.5</text>\n<text text-anchor=\"middle\" x=\"733\" y=\"-646.8\" font-family=\"Times,serif\" font-size=\"14.00\" fill=\"#000000\">entropy = 0.165</text>\n<text text-anchor=\"middle\" x=\"733\" y=\"-631.8\" font-family=\"Times,serif\" font-size=\"14.00\" fill=\"#000000\">samples = 1362</text>\n<text text-anchor=\"middle\" x=\"733\" y=\"-616.8\" font-family=\"Times,serif\" font-size=\"14.00\" fill=\"#000000\">value = [1329, 33]</text>\n</g>\n<!-- 4&#45;&gt;5 -->\n<g id=\"edge5\" class=\"edge\">\n<title>4&#45;&gt;5</title>\n<path fill=\"none\" stroke=\"#000000\" d=\"M808.327,-712.9465C798.3677,-703.6986 787.4789,-693.5876 777.1532,-683.9994\"/>\n<polygon fill=\"#000000\" stroke=\"#000000\" points=\"779.4649,-681.3698 769.7554,-677.13 774.7018,-686.4993 779.4649,-681.3698\"/>\n</g>\n<!-- 24 -->\n<g id=\"node25\" class=\"node\">\n<title>24</title>\n<polygon fill=\"none\" stroke=\"#000000\" points=\"955,-677 849,-677 849,-609 955,-609 955,-677\"/>\n<text text-anchor=\"middle\" x=\"902\" y=\"-661.8\" font-family=\"Times,serif\" font-size=\"14.00\" fill=\"#000000\">X[1533] &lt;= 0.5</text>\n<text text-anchor=\"middle\" x=\"902\" y=\"-646.8\" font-family=\"Times,serif\" font-size=\"14.00\" fill=\"#000000\">entropy = 0.998</text>\n<text text-anchor=\"middle\" x=\"902\" y=\"-631.8\" font-family=\"Times,serif\" font-size=\"14.00\" fill=\"#000000\">samples = 19</text>\n<text text-anchor=\"middle\" x=\"902\" y=\"-616.8\" font-family=\"Times,serif\" font-size=\"14.00\" fill=\"#000000\">value = [10, 9]</text>\n</g>\n<!-- 4&#45;&gt;24 -->\n<g id=\"edge24\" class=\"edge\">\n<title>4&#45;&gt;24</title>\n<path fill=\"none\" stroke=\"#000000\" d=\"M863.6639,-712.9465C868.388,-704.3271 873.5231,-694.9579 878.454,-685.9611\"/>\n<polygon fill=\"#000000\" stroke=\"#000000\" points=\"881.5571,-687.5815 883.2941,-677.13 875.4186,-684.2171 881.5571,-687.5815\"/>\n</g>\n<!-- 6 -->\n<g id=\"node7\" class=\"node\">\n<title>6</title>\n<polygon fill=\"none\" stroke=\"#000000\" points=\"625,-573 505,-573 505,-505 625,-505 625,-573\"/>\n<text text-anchor=\"middle\" x=\"565\" y=\"-557.8\" font-family=\"Times,serif\" font-size=\"14.00\" fill=\"#000000\">X[1399] &lt;= 0.5</text>\n<text text-anchor=\"middle\" x=\"565\" y=\"-542.8\" font-family=\"Times,serif\" font-size=\"14.00\" fill=\"#000000\">entropy = 0.137</text>\n<text text-anchor=\"middle\" x=\"565\" y=\"-527.8\" font-family=\"Times,serif\" font-size=\"14.00\" fill=\"#000000\">samples = 1351</text>\n<text text-anchor=\"middle\" x=\"565\" y=\"-512.8\" font-family=\"Times,serif\" font-size=\"14.00\" fill=\"#000000\">value = [1325, 26]</text>\n</g>\n<!-- 5&#45;&gt;6 -->\n<g id=\"edge6\" class=\"edge\">\n<title>5&#45;&gt;6</title>\n<path fill=\"none\" stroke=\"#000000\" d=\"M677.9905,-608.9465C662.3264,-599.2497 645.1293,-588.6039 628.9804,-578.6069\"/>\n<polygon fill=\"#000000\" stroke=\"#000000\" points=\"630.478,-575.4177 620.1331,-573.13 626.7935,-581.3695 630.478,-575.4177\"/>\n</g>\n<!-- 21 -->\n<g id=\"node22\" class=\"node\">\n<title>21</title>\n<polygon fill=\"none\" stroke=\"#000000\" points=\"786,-573 680,-573 680,-505 786,-505 786,-573\"/>\n<text text-anchor=\"middle\" x=\"733\" y=\"-557.8\" font-family=\"Times,serif\" font-size=\"14.00\" fill=\"#000000\">X[0] &lt;= 23.0</text>\n<text text-anchor=\"middle\" x=\"733\" y=\"-542.8\" font-family=\"Times,serif\" font-size=\"14.00\" fill=\"#000000\">entropy = 0.946</text>\n<text text-anchor=\"middle\" x=\"733\" y=\"-527.8\" font-family=\"Times,serif\" font-size=\"14.00\" fill=\"#000000\">samples = 11</text>\n<text text-anchor=\"middle\" x=\"733\" y=\"-512.8\" font-family=\"Times,serif\" font-size=\"14.00\" fill=\"#000000\">value = [4, 7]</text>\n</g>\n<!-- 5&#45;&gt;21 -->\n<g id=\"edge21\" class=\"edge\">\n<title>5&#45;&gt;21</title>\n<path fill=\"none\" stroke=\"#000000\" d=\"M733,-608.9465C733,-600.776 733,-591.9318 733,-583.3697\"/>\n<polygon fill=\"#000000\" stroke=\"#000000\" points=\"736.5001,-583.13 733,-573.13 729.5001,-583.13 736.5001,-583.13\"/>\n</g>\n<!-- 7 -->\n<g id=\"node8\" class=\"node\">\n<title>7</title>\n<polygon fill=\"none\" stroke=\"#000000\" points=\"501,-469 381,-469 381,-401 501,-401 501,-469\"/>\n<text text-anchor=\"middle\" x=\"441\" y=\"-453.8\" font-family=\"Times,serif\" font-size=\"14.00\" fill=\"#000000\">X[508] &lt;= 0.5</text>\n<text text-anchor=\"middle\" x=\"441\" y=\"-438.8\" font-family=\"Times,serif\" font-size=\"14.00\" fill=\"#000000\">entropy = 0.116</text>\n<text text-anchor=\"middle\" x=\"441\" y=\"-423.8\" font-family=\"Times,serif\" font-size=\"14.00\" fill=\"#000000\">samples = 1346</text>\n<text text-anchor=\"middle\" x=\"441\" y=\"-408.8\" font-family=\"Times,serif\" font-size=\"14.00\" fill=\"#000000\">value = [1325, 21]</text>\n</g>\n<!-- 6&#45;&gt;7 -->\n<g id=\"edge7\" class=\"edge\">\n<title>6&#45;&gt;7</title>\n<path fill=\"none\" stroke=\"#000000\" d=\"M524.3978,-504.9465C513.2644,-495.6088 501.0817,-485.3911 489.5511,-475.7203\"/>\n<polygon fill=\"#000000\" stroke=\"#000000\" points=\"491.6046,-472.8745 481.6935,-469.13 487.1062,-478.2378 491.6046,-472.8745\"/>\n</g>\n<!-- 20 -->\n<g id=\"node21\" class=\"node\">\n<title>20</title>\n<polygon fill=\"none\" stroke=\"#000000\" points=\"611,-461.5 519,-461.5 519,-408.5 611,-408.5 611,-461.5\"/>\n<text text-anchor=\"middle\" x=\"565\" y=\"-446.3\" font-family=\"Times,serif\" font-size=\"14.00\" fill=\"#000000\">entropy = 0.0</text>\n<text text-anchor=\"middle\" x=\"565\" y=\"-431.3\" font-family=\"Times,serif\" font-size=\"14.00\" fill=\"#000000\">samples = 5</text>\n<text text-anchor=\"middle\" x=\"565\" y=\"-416.3\" font-family=\"Times,serif\" font-size=\"14.00\" fill=\"#000000\">value = [0, 5]</text>\n</g>\n<!-- 6&#45;&gt;20 -->\n<g id=\"edge20\" class=\"edge\">\n<title>6&#45;&gt;20</title>\n<path fill=\"none\" stroke=\"#000000\" d=\"M565,-504.9465C565,-494.2621 565,-482.4254 565,-471.5742\"/>\n<polygon fill=\"#000000\" stroke=\"#000000\" points=\"568.5001,-471.5421 565,-461.5422 561.5001,-471.5422 568.5001,-471.5421\"/>\n</g>\n<!-- 8 -->\n<g id=\"node9\" class=\"node\">\n<title>8</title>\n<polygon fill=\"none\" stroke=\"#000000\" points=\"439,-365 319,-365 319,-297 439,-297 439,-365\"/>\n<text text-anchor=\"middle\" x=\"379\" y=\"-349.8\" font-family=\"Times,serif\" font-size=\"14.00\" fill=\"#000000\">X[418] &lt;= 0.5</text>\n<text text-anchor=\"middle\" x=\"379\" y=\"-334.8\" font-family=\"Times,serif\" font-size=\"14.00\" fill=\"#000000\">entropy = 0.103</text>\n<text text-anchor=\"middle\" x=\"379\" y=\"-319.8\" font-family=\"Times,serif\" font-size=\"14.00\" fill=\"#000000\">samples = 1343</text>\n<text text-anchor=\"middle\" x=\"379\" y=\"-304.8\" font-family=\"Times,serif\" font-size=\"14.00\" fill=\"#000000\">value = [1325, 18]</text>\n</g>\n<!-- 7&#45;&gt;8 -->\n<g id=\"edge8\" class=\"edge\">\n<title>7&#45;&gt;8</title>\n<path fill=\"none\" stroke=\"#000000\" d=\"M420.6989,-400.9465C415.5604,-392.3271 409.9749,-382.9579 404.6114,-373.9611\"/>\n<polygon fill=\"#000000\" stroke=\"#000000\" points=\"407.4737,-371.9272 399.3467,-365.13 401.4611,-375.5117 407.4737,-371.9272\"/>\n</g>\n<!-- 19 -->\n<g id=\"node20\" class=\"node\">\n<title>19</title>\n<polygon fill=\"none\" stroke=\"#000000\" points=\"549,-357.5 457,-357.5 457,-304.5 549,-304.5 549,-357.5\"/>\n<text text-anchor=\"middle\" x=\"503\" y=\"-342.3\" font-family=\"Times,serif\" font-size=\"14.00\" fill=\"#000000\">entropy = 0.0</text>\n<text text-anchor=\"middle\" x=\"503\" y=\"-327.3\" font-family=\"Times,serif\" font-size=\"14.00\" fill=\"#000000\">samples = 3</text>\n<text text-anchor=\"middle\" x=\"503\" y=\"-312.3\" font-family=\"Times,serif\" font-size=\"14.00\" fill=\"#000000\">value = [0, 3]</text>\n</g>\n<!-- 7&#45;&gt;19 -->\n<g id=\"edge19\" class=\"edge\">\n<title>7&#45;&gt;19</title>\n<path fill=\"none\" stroke=\"#000000\" d=\"M461.3011,-400.9465C467.9334,-389.8215 475.3103,-377.4473 481.9933,-366.237\"/>\n<polygon fill=\"#000000\" stroke=\"#000000\" points=\"485.0624,-367.9239 487.1768,-357.5422 479.0498,-364.3394 485.0624,-367.9239\"/>\n</g>\n<!-- 9 -->\n<g id=\"node10\" class=\"node\">\n<title>9</title>\n<polygon fill=\"none\" stroke=\"#000000\" points=\"374,-261 254,-261 254,-193 374,-193 374,-261\"/>\n<text text-anchor=\"middle\" x=\"314\" y=\"-245.8\" font-family=\"Times,serif\" font-size=\"14.00\" fill=\"#000000\">X[1081] &lt;= 0.5</text>\n<text text-anchor=\"middle\" x=\"314\" y=\"-230.8\" font-family=\"Times,serif\" font-size=\"14.00\" fill=\"#000000\">entropy = 0.089</text>\n<text text-anchor=\"middle\" x=\"314\" y=\"-215.8\" font-family=\"Times,serif\" font-size=\"14.00\" fill=\"#000000\">samples = 1335</text>\n<text text-anchor=\"middle\" x=\"314\" y=\"-200.8\" font-family=\"Times,serif\" font-size=\"14.00\" fill=\"#000000\">value = [1320, 15]</text>\n</g>\n<!-- 8&#45;&gt;9 -->\n<g id=\"edge9\" class=\"edge\">\n<title>8&#45;&gt;9</title>\n<path fill=\"none\" stroke=\"#000000\" d=\"M357.7166,-296.9465C352.2733,-288.2373 346.3516,-278.7626 340.675,-269.6801\"/>\n<polygon fill=\"#000000\" stroke=\"#000000\" points=\"343.5993,-267.755 335.3312,-261.13 337.6633,-271.465 343.5993,-267.755\"/>\n</g>\n<!-- 16 -->\n<g id=\"node17\" class=\"node\">\n<title>16</title>\n<polygon fill=\"none\" stroke=\"#000000\" points=\"498,-261 392,-261 392,-193 498,-193 498,-261\"/>\n<text text-anchor=\"middle\" x=\"445\" y=\"-245.8\" font-family=\"Times,serif\" font-size=\"14.00\" fill=\"#000000\">X[1] &lt;= 135.0</text>\n<text text-anchor=\"middle\" x=\"445\" y=\"-230.8\" font-family=\"Times,serif\" font-size=\"14.00\" fill=\"#000000\">entropy = 0.954</text>\n<text text-anchor=\"middle\" x=\"445\" y=\"-215.8\" font-family=\"Times,serif\" font-size=\"14.00\" fill=\"#000000\">samples = 8</text>\n<text text-anchor=\"middle\" x=\"445\" y=\"-200.8\" font-family=\"Times,serif\" font-size=\"14.00\" fill=\"#000000\">value = [5, 3]</text>\n</g>\n<!-- 8&#45;&gt;16 -->\n<g id=\"edge16\" class=\"edge\">\n<title>8&#45;&gt;16</title>\n<path fill=\"none\" stroke=\"#000000\" d=\"M400.6109,-296.9465C406.1378,-288.2373 412.1506,-278.7626 417.9146,-269.6801\"/>\n<polygon fill=\"#000000\" stroke=\"#000000\" points=\"420.9374,-271.4487 423.3406,-261.13 415.0271,-267.6979 420.9374,-271.4487\"/>\n</g>\n<!-- 10 -->\n<g id=\"node11\" class=\"node\">\n<title>10</title>\n<polygon fill=\"none\" stroke=\"#000000\" points=\"247,-157 127,-157 127,-89 247,-89 247,-157\"/>\n<text text-anchor=\"middle\" x=\"187\" y=\"-141.8\" font-family=\"Times,serif\" font-size=\"14.00\" fill=\"#000000\">X[417] &lt;= 0.5</text>\n<text text-anchor=\"middle\" x=\"187\" y=\"-126.8\" font-family=\"Times,serif\" font-size=\"14.00\" fill=\"#000000\">entropy = 0.079</text>\n<text text-anchor=\"middle\" x=\"187\" y=\"-111.8\" font-family=\"Times,serif\" font-size=\"14.00\" fill=\"#000000\">samples = 1332</text>\n<text text-anchor=\"middle\" x=\"187\" y=\"-96.8\" font-family=\"Times,serif\" font-size=\"14.00\" fill=\"#000000\">value = [1319, 13]</text>\n</g>\n<!-- 9&#45;&gt;10 -->\n<g id=\"edge10\" class=\"edge\">\n<title>9&#45;&gt;10</title>\n<path fill=\"none\" stroke=\"#000000\" d=\"M272.4155,-192.9465C261.0127,-183.6088 248.5353,-173.3911 236.7257,-163.7203\"/>\n<polygon fill=\"#000000\" stroke=\"#000000\" points=\"238.6324,-160.7578 228.678,-157.13 234.1974,-166.1736 238.6324,-160.7578\"/>\n</g>\n<!-- 13 -->\n<g id=\"node14\" class=\"node\">\n<title>13</title>\n<polygon fill=\"none\" stroke=\"#000000\" points=\"371,-157 265,-157 265,-89 371,-89 371,-157\"/>\n<text text-anchor=\"middle\" x=\"318\" y=\"-141.8\" font-family=\"Times,serif\" font-size=\"14.00\" fill=\"#000000\">X[636] &lt;= 0.5</text>\n<text text-anchor=\"middle\" x=\"318\" y=\"-126.8\" font-family=\"Times,serif\" font-size=\"14.00\" fill=\"#000000\">entropy = 0.918</text>\n<text text-anchor=\"middle\" x=\"318\" y=\"-111.8\" font-family=\"Times,serif\" font-size=\"14.00\" fill=\"#000000\">samples = 3</text>\n<text text-anchor=\"middle\" x=\"318\" y=\"-96.8\" font-family=\"Times,serif\" font-size=\"14.00\" fill=\"#000000\">value = [1, 2]</text>\n</g>\n<!-- 9&#45;&gt;13 -->\n<g id=\"edge13\" class=\"edge\">\n<title>9&#45;&gt;13</title>\n<path fill=\"none\" stroke=\"#000000\" d=\"M315.3097,-192.9465C315.624,-184.776 315.9642,-175.9318 316.2935,-167.3697\"/>\n<polygon fill=\"#000000\" stroke=\"#000000\" points=\"319.8003,-167.2572 316.6873,-157.13 312.8055,-166.9881 319.8003,-167.2572\"/>\n</g>\n<!-- 11 -->\n<g id=\"node12\" class=\"node\">\n<title>11</title>\n<polygon fill=\"none\" stroke=\"#000000\" points=\"120,-53 0,-53 0,0 120,0 120,-53\"/>\n<text text-anchor=\"middle\" x=\"60\" y=\"-37.8\" font-family=\"Times,serif\" font-size=\"14.00\" fill=\"#000000\">entropy = 0.069</text>\n<text text-anchor=\"middle\" x=\"60\" y=\"-22.8\" font-family=\"Times,serif\" font-size=\"14.00\" fill=\"#000000\">samples = 1327</text>\n<text text-anchor=\"middle\" x=\"60\" y=\"-7.8\" font-family=\"Times,serif\" font-size=\"14.00\" fill=\"#000000\">value = [1316, 11]</text>\n</g>\n<!-- 10&#45;&gt;11 -->\n<g id=\"edge11\" class=\"edge\">\n<title>10&#45;&gt;11</title>\n<path fill=\"none\" stroke=\"#000000\" d=\"M142.2246,-88.9777C129.5708,-79.3629 115.8277,-68.9203 103.2647,-59.3743\"/>\n<polygon fill=\"#000000\" stroke=\"#000000\" points=\"105.2824,-56.5118 95.2027,-53.2485 101.0474,-62.0853 105.2824,-56.5118\"/>\n</g>\n<!-- 12 -->\n<g id=\"node13\" class=\"node\">\n<title>12</title>\n<polygon fill=\"none\" stroke=\"#000000\" points=\"244,-53 138,-53 138,0 244,0 244,-53\"/>\n<text text-anchor=\"middle\" x=\"191\" y=\"-37.8\" font-family=\"Times,serif\" font-size=\"14.00\" fill=\"#000000\">entropy = 0.971</text>\n<text text-anchor=\"middle\" x=\"191\" y=\"-22.8\" font-family=\"Times,serif\" font-size=\"14.00\" fill=\"#000000\">samples = 5</text>\n<text text-anchor=\"middle\" x=\"191\" y=\"-7.8\" font-family=\"Times,serif\" font-size=\"14.00\" fill=\"#000000\">value = [3, 2]</text>\n</g>\n<!-- 10&#45;&gt;12 -->\n<g id=\"edge12\" class=\"edge\">\n<title>10&#45;&gt;12</title>\n<path fill=\"none\" stroke=\"#000000\" d=\"M188.4103,-88.9777C188.7519,-80.7364 189.1187,-71.887 189.4657,-63.5153\"/>\n<polygon fill=\"#000000\" stroke=\"#000000\" points=\"192.974,-63.3849 189.8913,-53.2485 185.98,-63.0949 192.974,-63.3849\"/>\n</g>\n<!-- 14 -->\n<g id=\"node15\" class=\"node\">\n<title>14</title>\n<polygon fill=\"none\" stroke=\"#000000\" points=\"361,-53 269,-53 269,0 361,0 361,-53\"/>\n<text text-anchor=\"middle\" x=\"315\" y=\"-37.8\" font-family=\"Times,serif\" font-size=\"14.00\" fill=\"#000000\">entropy = 0.0</text>\n<text text-anchor=\"middle\" x=\"315\" y=\"-22.8\" font-family=\"Times,serif\" font-size=\"14.00\" fill=\"#000000\">samples = 2</text>\n<text text-anchor=\"middle\" x=\"315\" y=\"-7.8\" font-family=\"Times,serif\" font-size=\"14.00\" fill=\"#000000\">value = [0, 2]</text>\n</g>\n<!-- 13&#45;&gt;14 -->\n<g id=\"edge14\" class=\"edge\">\n<title>13&#45;&gt;14</title>\n<path fill=\"none\" stroke=\"#000000\" d=\"M316.9423,-88.9777C316.6861,-80.7364 316.411,-71.887 316.1507,-63.5153\"/>\n<polygon fill=\"#000000\" stroke=\"#000000\" points=\"319.6407,-63.1349 315.8316,-53.2485 312.6441,-63.3524 319.6407,-63.1349\"/>\n</g>\n<!-- 15 -->\n<g id=\"node16\" class=\"node\">\n<title>15</title>\n<polygon fill=\"none\" stroke=\"#000000\" points=\"471,-53 379,-53 379,0 471,0 471,-53\"/>\n<text text-anchor=\"middle\" x=\"425\" y=\"-37.8\" font-family=\"Times,serif\" font-size=\"14.00\" fill=\"#000000\">entropy = 0.0</text>\n<text text-anchor=\"middle\" x=\"425\" y=\"-22.8\" font-family=\"Times,serif\" font-size=\"14.00\" fill=\"#000000\">samples = 1</text>\n<text text-anchor=\"middle\" x=\"425\" y=\"-7.8\" font-family=\"Times,serif\" font-size=\"14.00\" fill=\"#000000\">value = [1, 0]</text>\n</g>\n<!-- 13&#45;&gt;15 -->\n<g id=\"edge15\" class=\"edge\">\n<title>13&#45;&gt;15</title>\n<path fill=\"none\" stroke=\"#000000\" d=\"M355.7242,-88.9777C366.0806,-79.6376 377.3031,-69.5163 387.639,-60.1947\"/>\n<polygon fill=\"#000000\" stroke=\"#000000\" points=\"390.2591,-62.5449 395.3411,-53.2485 385.5709,-57.3467 390.2591,-62.5449\"/>\n</g>\n<!-- 17 -->\n<g id=\"node18\" class=\"node\">\n<title>17</title>\n<polygon fill=\"none\" stroke=\"#000000\" points=\"488,-149.5 396,-149.5 396,-96.5 488,-96.5 488,-149.5\"/>\n<text text-anchor=\"middle\" x=\"442\" y=\"-134.3\" font-family=\"Times,serif\" font-size=\"14.00\" fill=\"#000000\">entropy = 0.0</text>\n<text text-anchor=\"middle\" x=\"442\" y=\"-119.3\" font-family=\"Times,serif\" font-size=\"14.00\" fill=\"#000000\">samples = 5</text>\n<text text-anchor=\"middle\" x=\"442\" y=\"-104.3\" font-family=\"Times,serif\" font-size=\"14.00\" fill=\"#000000\">value = [5, 0]</text>\n</g>\n<!-- 16&#45;&gt;17 -->\n<g id=\"edge17\" class=\"edge\">\n<title>16&#45;&gt;17</title>\n<path fill=\"none\" stroke=\"#000000\" d=\"M444.0177,-192.9465C443.7095,-182.2621 443.368,-170.4254 443.055,-159.5742\"/>\n<polygon fill=\"#000000\" stroke=\"#000000\" points=\"446.5526,-159.4371 442.7656,-149.5422 439.5555,-159.639 446.5526,-159.4371\"/>\n</g>\n<!-- 18 -->\n<g id=\"node19\" class=\"node\">\n<title>18</title>\n<polygon fill=\"none\" stroke=\"#000000\" points=\"598,-149.5 506,-149.5 506,-96.5 598,-96.5 598,-149.5\"/>\n<text text-anchor=\"middle\" x=\"552\" y=\"-134.3\" font-family=\"Times,serif\" font-size=\"14.00\" fill=\"#000000\">entropy = 0.0</text>\n<text text-anchor=\"middle\" x=\"552\" y=\"-119.3\" font-family=\"Times,serif\" font-size=\"14.00\" fill=\"#000000\">samples = 3</text>\n<text text-anchor=\"middle\" x=\"552\" y=\"-104.3\" font-family=\"Times,serif\" font-size=\"14.00\" fill=\"#000000\">value = [0, 3]</text>\n</g>\n<!-- 16&#45;&gt;18 -->\n<g id=\"edge18\" class=\"edge\">\n<title>16&#45;&gt;18</title>\n<path fill=\"none\" stroke=\"#000000\" d=\"M480.0358,-192.9465C492.0484,-181.2707 505.4766,-168.219 517.4504,-156.5809\"/>\n<polygon fill=\"#000000\" stroke=\"#000000\" points=\"519.9607,-159.0218 524.6922,-149.5422 515.0818,-154.0022 519.9607,-159.0218\"/>\n</g>\n<!-- 22 -->\n<g id=\"node23\" class=\"node\">\n<title>22</title>\n<polygon fill=\"none\" stroke=\"#000000\" points=\"721,-461.5 629,-461.5 629,-408.5 721,-408.5 721,-461.5\"/>\n<text text-anchor=\"middle\" x=\"675\" y=\"-446.3\" font-family=\"Times,serif\" font-size=\"14.00\" fill=\"#000000\">entropy = 0.0</text>\n<text text-anchor=\"middle\" x=\"675\" y=\"-431.3\" font-family=\"Times,serif\" font-size=\"14.00\" fill=\"#000000\">samples = 4</text>\n<text text-anchor=\"middle\" x=\"675\" y=\"-416.3\" font-family=\"Times,serif\" font-size=\"14.00\" fill=\"#000000\">value = [4, 0]</text>\n</g>\n<!-- 21&#45;&gt;22 -->\n<g id=\"edge22\" class=\"edge\">\n<title>21&#45;&gt;22</title>\n<path fill=\"none\" stroke=\"#000000\" d=\"M714.0086,-504.9465C707.8657,-493.9316 701.0399,-481.6922 694.8373,-470.5703\"/>\n<polygon fill=\"#000000\" stroke=\"#000000\" points=\"697.7299,-468.5711 689.8024,-461.5422 691.6163,-471.9806 697.7299,-468.5711\"/>\n</g>\n<!-- 23 -->\n<g id=\"node24\" class=\"node\">\n<title>23</title>\n<polygon fill=\"none\" stroke=\"#000000\" points=\"831,-461.5 739,-461.5 739,-408.5 831,-408.5 831,-461.5\"/>\n<text text-anchor=\"middle\" x=\"785\" y=\"-446.3\" font-family=\"Times,serif\" font-size=\"14.00\" fill=\"#000000\">entropy = 0.0</text>\n<text text-anchor=\"middle\" x=\"785\" y=\"-431.3\" font-family=\"Times,serif\" font-size=\"14.00\" fill=\"#000000\">samples = 7</text>\n<text text-anchor=\"middle\" x=\"785\" y=\"-416.3\" font-family=\"Times,serif\" font-size=\"14.00\" fill=\"#000000\">value = [0, 7]</text>\n</g>\n<!-- 21&#45;&gt;23 -->\n<g id=\"edge23\" class=\"edge\">\n<title>21&#45;&gt;23</title>\n<path fill=\"none\" stroke=\"#000000\" d=\"M750.0267,-504.9465C755.5342,-493.9316 761.6539,-481.6922 767.2149,-470.5703\"/>\n<polygon fill=\"#000000\" stroke=\"#000000\" points=\"770.3872,-472.0517 771.7289,-461.5422 764.1262,-468.9212 770.3872,-472.0517\"/>\n</g>\n<!-- 25 -->\n<g id=\"node26\" class=\"node\">\n<title>25</title>\n<polygon fill=\"none\" stroke=\"#000000\" points=\"951.5,-573 852.5,-573 852.5,-505 951.5,-505 951.5,-573\"/>\n<text text-anchor=\"middle\" x=\"902\" y=\"-557.8\" font-family=\"Times,serif\" font-size=\"14.00\" fill=\"#000000\">X[0] &lt;= 54.0</text>\n<text text-anchor=\"middle\" x=\"902\" y=\"-542.8\" font-family=\"Times,serif\" font-size=\"14.00\" fill=\"#000000\">entropy = 0.89</text>\n<text text-anchor=\"middle\" x=\"902\" y=\"-527.8\" font-family=\"Times,serif\" font-size=\"14.00\" fill=\"#000000\">samples = 13</text>\n<text text-anchor=\"middle\" x=\"902\" y=\"-512.8\" font-family=\"Times,serif\" font-size=\"14.00\" fill=\"#000000\">value = [4, 9]</text>\n</g>\n<!-- 24&#45;&gt;25 -->\n<g id=\"edge25\" class=\"edge\">\n<title>24&#45;&gt;25</title>\n<path fill=\"none\" stroke=\"#000000\" d=\"M902,-608.9465C902,-600.776 902,-591.9318 902,-583.3697\"/>\n<polygon fill=\"#000000\" stroke=\"#000000\" points=\"905.5001,-583.13 902,-573.13 898.5001,-583.13 905.5001,-583.13\"/>\n</g>\n<!-- 32 -->\n<g id=\"node33\" class=\"node\">\n<title>32</title>\n<polygon fill=\"none\" stroke=\"#000000\" points=\"1062,-565.5 970,-565.5 970,-512.5 1062,-512.5 1062,-565.5\"/>\n<text text-anchor=\"middle\" x=\"1016\" y=\"-550.3\" font-family=\"Times,serif\" font-size=\"14.00\" fill=\"#000000\">entropy = 0.0</text>\n<text text-anchor=\"middle\" x=\"1016\" y=\"-535.3\" font-family=\"Times,serif\" font-size=\"14.00\" fill=\"#000000\">samples = 6</text>\n<text text-anchor=\"middle\" x=\"1016\" y=\"-520.3\" font-family=\"Times,serif\" font-size=\"14.00\" fill=\"#000000\">value = [6, 0]</text>\n</g>\n<!-- 24&#45;&gt;32 -->\n<g id=\"edge32\" class=\"edge\">\n<title>24&#45;&gt;32</title>\n<path fill=\"none\" stroke=\"#000000\" d=\"M939.3279,-608.9465C952.1263,-597.2707 966.433,-584.219 979.1901,-572.5809\"/>\n<polygon fill=\"#000000\" stroke=\"#000000\" points=\"981.8769,-574.8675 986.9057,-565.5422 977.1591,-569.6961 981.8769,-574.8675\"/>\n</g>\n<!-- 26 -->\n<g id=\"node27\" class=\"node\">\n<title>26</title>\n<polygon fill=\"none\" stroke=\"#000000\" points=\"955,-469 849,-469 849,-401 955,-401 955,-469\"/>\n<text text-anchor=\"middle\" x=\"902\" y=\"-453.8\" font-family=\"Times,serif\" font-size=\"14.00\" fill=\"#000000\">X[1416] &lt;= 0.5</text>\n<text text-anchor=\"middle\" x=\"902\" y=\"-438.8\" font-family=\"Times,serif\" font-size=\"14.00\" fill=\"#000000\">entropy = 0.811</text>\n<text text-anchor=\"middle\" x=\"902\" y=\"-423.8\" font-family=\"Times,serif\" font-size=\"14.00\" fill=\"#000000\">samples = 4</text>\n<text text-anchor=\"middle\" x=\"902\" y=\"-408.8\" font-family=\"Times,serif\" font-size=\"14.00\" fill=\"#000000\">value = [3, 1]</text>\n</g>\n<!-- 25&#45;&gt;26 -->\n<g id=\"edge26\" class=\"edge\">\n<title>25&#45;&gt;26</title>\n<path fill=\"none\" stroke=\"#000000\" d=\"M902,-504.9465C902,-496.776 902,-487.9318 902,-479.3697\"/>\n<polygon fill=\"#000000\" stroke=\"#000000\" points=\"905.5001,-479.13 902,-469.13 898.5001,-479.13 905.5001,-479.13\"/>\n</g>\n<!-- 29 -->\n<g id=\"node30\" class=\"node\">\n<title>29</title>\n<polygon fill=\"none\" stroke=\"#000000\" points=\"1079,-469 973,-469 973,-401 1079,-401 1079,-469\"/>\n<text text-anchor=\"middle\" x=\"1026\" y=\"-453.8\" font-family=\"Times,serif\" font-size=\"14.00\" fill=\"#000000\">X[0] &lt;= 103.5</text>\n<text text-anchor=\"middle\" x=\"1026\" y=\"-438.8\" font-family=\"Times,serif\" font-size=\"14.00\" fill=\"#000000\">entropy = 0.503</text>\n<text text-anchor=\"middle\" x=\"1026\" y=\"-423.8\" font-family=\"Times,serif\" font-size=\"14.00\" fill=\"#000000\">samples = 9</text>\n<text text-anchor=\"middle\" x=\"1026\" y=\"-408.8\" font-family=\"Times,serif\" font-size=\"14.00\" fill=\"#000000\">value = [1, 8]</text>\n</g>\n<!-- 25&#45;&gt;29 -->\n<g id=\"edge29\" class=\"edge\">\n<title>25&#45;&gt;29</title>\n<path fill=\"none\" stroke=\"#000000\" d=\"M942.6022,-504.9465C953.7356,-495.6088 965.9183,-485.3911 977.4489,-475.7203\"/>\n<polygon fill=\"#000000\" stroke=\"#000000\" points=\"979.8938,-478.2378 985.3065,-469.13 975.3954,-472.8745 979.8938,-478.2378\"/>\n</g>\n<!-- 27 -->\n<g id=\"node28\" class=\"node\">\n<title>27</title>\n<polygon fill=\"none\" stroke=\"#000000\" points=\"841,-357.5 749,-357.5 749,-304.5 841,-304.5 841,-357.5\"/>\n<text text-anchor=\"middle\" x=\"795\" y=\"-342.3\" font-family=\"Times,serif\" font-size=\"14.00\" fill=\"#000000\">entropy = 0.0</text>\n<text text-anchor=\"middle\" x=\"795\" y=\"-327.3\" font-family=\"Times,serif\" font-size=\"14.00\" fill=\"#000000\">samples = 3</text>\n<text text-anchor=\"middle\" x=\"795\" y=\"-312.3\" font-family=\"Times,serif\" font-size=\"14.00\" fill=\"#000000\">value = [3, 0]</text>\n</g>\n<!-- 26&#45;&gt;27 -->\n<g id=\"edge27\" class=\"edge\">\n<title>26&#45;&gt;27</title>\n<path fill=\"none\" stroke=\"#000000\" d=\"M866.9642,-400.9465C854.9516,-389.2707 841.5234,-376.219 829.5496,-364.5809\"/>\n<polygon fill=\"#000000\" stroke=\"#000000\" points=\"831.9182,-362.0022 822.3078,-357.5422 827.0393,-367.0218 831.9182,-362.0022\"/>\n</g>\n<!-- 28 -->\n<g id=\"node29\" class=\"node\">\n<title>28</title>\n<polygon fill=\"none\" stroke=\"#000000\" points=\"951,-357.5 859,-357.5 859,-304.5 951,-304.5 951,-357.5\"/>\n<text text-anchor=\"middle\" x=\"905\" y=\"-342.3\" font-family=\"Times,serif\" font-size=\"14.00\" fill=\"#000000\">entropy = 0.0</text>\n<text text-anchor=\"middle\" x=\"905\" y=\"-327.3\" font-family=\"Times,serif\" font-size=\"14.00\" fill=\"#000000\">samples = 1</text>\n<text text-anchor=\"middle\" x=\"905\" y=\"-312.3\" font-family=\"Times,serif\" font-size=\"14.00\" fill=\"#000000\">value = [0, 1]</text>\n</g>\n<!-- 26&#45;&gt;28 -->\n<g id=\"edge28\" class=\"edge\">\n<title>26&#45;&gt;28</title>\n<path fill=\"none\" stroke=\"#000000\" d=\"M902.9823,-400.9465C903.2905,-390.2621 903.632,-378.4254 903.945,-367.5742\"/>\n<polygon fill=\"#000000\" stroke=\"#000000\" points=\"907.4445,-367.639 904.2344,-357.5422 900.4474,-367.4371 907.4445,-367.639\"/>\n</g>\n<!-- 30 -->\n<g id=\"node31\" class=\"node\">\n<title>30</title>\n<polygon fill=\"none\" stroke=\"#000000\" points=\"1068,-357.5 976,-357.5 976,-304.5 1068,-304.5 1068,-357.5\"/>\n<text text-anchor=\"middle\" x=\"1022\" y=\"-342.3\" font-family=\"Times,serif\" font-size=\"14.00\" fill=\"#000000\">entropy = 0.0</text>\n<text text-anchor=\"middle\" x=\"1022\" y=\"-327.3\" font-family=\"Times,serif\" font-size=\"14.00\" fill=\"#000000\">samples = 8</text>\n<text text-anchor=\"middle\" x=\"1022\" y=\"-312.3\" font-family=\"Times,serif\" font-size=\"14.00\" fill=\"#000000\">value = [0, 8]</text>\n</g>\n<!-- 29&#45;&gt;30 -->\n<g id=\"edge30\" class=\"edge\">\n<title>29&#45;&gt;30</title>\n<path fill=\"none\" stroke=\"#000000\" d=\"M1024.6903,-400.9465C1024.2793,-390.2621 1023.8241,-378.4254 1023.4067,-367.5742\"/>\n<polygon fill=\"#000000\" stroke=\"#000000\" points=\"1026.9027,-367.4002 1023.0209,-357.5422 1019.9079,-367.6693 1026.9027,-367.4002\"/>\n</g>\n<!-- 31 -->\n<g id=\"node32\" class=\"node\">\n<title>31</title>\n<polygon fill=\"none\" stroke=\"#000000\" points=\"1178,-357.5 1086,-357.5 1086,-304.5 1178,-304.5 1178,-357.5\"/>\n<text text-anchor=\"middle\" x=\"1132\" y=\"-342.3\" font-family=\"Times,serif\" font-size=\"14.00\" fill=\"#000000\">entropy = 0.0</text>\n<text text-anchor=\"middle\" x=\"1132\" y=\"-327.3\" font-family=\"Times,serif\" font-size=\"14.00\" fill=\"#000000\">samples = 1</text>\n<text text-anchor=\"middle\" x=\"1132\" y=\"-312.3\" font-family=\"Times,serif\" font-size=\"14.00\" fill=\"#000000\">value = [1, 0]</text>\n</g>\n<!-- 29&#45;&gt;31 -->\n<g id=\"edge31\" class=\"edge\">\n<title>29&#45;&gt;31</title>\n<path fill=\"none\" stroke=\"#000000\" d=\"M1060.7084,-400.9465C1072.6087,-389.2707 1085.9114,-376.219 1097.7733,-364.5809\"/>\n<polygon fill=\"#000000\" stroke=\"#000000\" points=\"1100.2605,-367.0439 1104.9474,-357.5422 1095.3581,-362.0473 1100.2605,-367.0439\"/>\n</g>\n<!-- 35 -->\n<g id=\"node36\" class=\"node\">\n<title>35</title>\n<polygon fill=\"none\" stroke=\"#000000\" points=\"1125,-773.5 1033,-773.5 1033,-720.5 1125,-720.5 1125,-773.5\"/>\n<text text-anchor=\"middle\" x=\"1079\" y=\"-758.3\" font-family=\"Times,serif\" font-size=\"14.00\" fill=\"#000000\">entropy = 0.0</text>\n<text text-anchor=\"middle\" x=\"1079\" y=\"-743.3\" font-family=\"Times,serif\" font-size=\"14.00\" fill=\"#000000\">samples = 2</text>\n<text text-anchor=\"middle\" x=\"1079\" y=\"-728.3\" font-family=\"Times,serif\" font-size=\"14.00\" fill=\"#000000\">value = [2, 0]</text>\n</g>\n<!-- 34&#45;&gt;35 -->\n<g id=\"edge35\" class=\"edge\">\n<title>34&#45;&gt;35</title>\n<path fill=\"none\" stroke=\"#000000\" d=\"M1123.3891,-816.9465C1116.329,-805.8215 1108.4761,-793.4473 1101.3619,-782.237\"/>\n<polygon fill=\"#000000\" stroke=\"#000000\" points=\"1104.1575,-780.1101 1095.8441,-773.5422 1098.2472,-783.8609 1104.1575,-780.1101\"/>\n</g>\n<!-- 36 -->\n<g id=\"node37\" class=\"node\">\n<title>36</title>\n<polygon fill=\"none\" stroke=\"#000000\" points=\"1242.5,-781 1143.5,-781 1143.5,-713 1242.5,-713 1242.5,-781\"/>\n<text text-anchor=\"middle\" x=\"1193\" y=\"-765.8\" font-family=\"Times,serif\" font-size=\"14.00\" fill=\"#000000\">X[0] &lt;= 142.5</text>\n<text text-anchor=\"middle\" x=\"1193\" y=\"-750.8\" font-family=\"Times,serif\" font-size=\"14.00\" fill=\"#000000\">entropy = 0.31</text>\n<text text-anchor=\"middle\" x=\"1193\" y=\"-735.8\" font-family=\"Times,serif\" font-size=\"14.00\" fill=\"#000000\">samples = 18</text>\n<text text-anchor=\"middle\" x=\"1193\" y=\"-720.8\" font-family=\"Times,serif\" font-size=\"14.00\" fill=\"#000000\">value = [1, 17]</text>\n</g>\n<!-- 34&#45;&gt;36 -->\n<g id=\"edge36\" class=\"edge\">\n<title>34&#45;&gt;36</title>\n<path fill=\"none\" stroke=\"#000000\" d=\"M1160.717,-816.9465C1164.6537,-808.4169 1168.9294,-799.153 1173.042,-790.2424\"/>\n<polygon fill=\"#000000\" stroke=\"#000000\" points=\"1176.2349,-791.6763 1177.2477,-781.13 1169.8792,-788.7429 1176.2349,-791.6763\"/>\n</g>\n<!-- 37 -->\n<g id=\"node38\" class=\"node\">\n<title>37</title>\n<polygon fill=\"none\" stroke=\"#000000\" points=\"1128.5,-669.5 1029.5,-669.5 1029.5,-616.5 1128.5,-616.5 1128.5,-669.5\"/>\n<text text-anchor=\"middle\" x=\"1079\" y=\"-654.3\" font-family=\"Times,serif\" font-size=\"14.00\" fill=\"#000000\">entropy = 0.0</text>\n<text text-anchor=\"middle\" x=\"1079\" y=\"-639.3\" font-family=\"Times,serif\" font-size=\"14.00\" fill=\"#000000\">samples = 17</text>\n<text text-anchor=\"middle\" x=\"1079\" y=\"-624.3\" font-family=\"Times,serif\" font-size=\"14.00\" fill=\"#000000\">value = [0, 17]</text>\n</g>\n<!-- 36&#45;&gt;37 -->\n<g id=\"edge37\" class=\"edge\">\n<title>36&#45;&gt;37</title>\n<path fill=\"none\" stroke=\"#000000\" d=\"M1155.6721,-712.9465C1142.8737,-701.2707 1128.567,-688.219 1115.8099,-676.5809\"/>\n<polygon fill=\"#000000\" stroke=\"#000000\" points=\"1117.8409,-673.6961 1108.0943,-669.5422 1113.1231,-678.8675 1117.8409,-673.6961\"/>\n</g>\n<!-- 38 -->\n<g id=\"node39\" class=\"node\">\n<title>38</title>\n<polygon fill=\"none\" stroke=\"#000000\" points=\"1239,-669.5 1147,-669.5 1147,-616.5 1239,-616.5 1239,-669.5\"/>\n<text text-anchor=\"middle\" x=\"1193\" y=\"-654.3\" font-family=\"Times,serif\" font-size=\"14.00\" fill=\"#000000\">entropy = 0.0</text>\n<text text-anchor=\"middle\" x=\"1193\" y=\"-639.3\" font-family=\"Times,serif\" font-size=\"14.00\" fill=\"#000000\">samples = 1</text>\n<text text-anchor=\"middle\" x=\"1193\" y=\"-624.3\" font-family=\"Times,serif\" font-size=\"14.00\" fill=\"#000000\">value = [1, 0]</text>\n</g>\n<!-- 36&#45;&gt;38 -->\n<g id=\"edge38\" class=\"edge\">\n<title>36&#45;&gt;38</title>\n<path fill=\"none\" stroke=\"#000000\" d=\"M1193,-712.9465C1193,-702.2621 1193,-690.4254 1193,-679.5742\"/>\n<polygon fill=\"#000000\" stroke=\"#000000\" points=\"1196.5001,-679.5421 1193,-669.5422 1189.5001,-679.5422 1196.5001,-679.5421\"/>\n</g>\n<!-- 40 -->\n<g id=\"node41\" class=\"node\">\n<title>40</title>\n<polygon fill=\"none\" stroke=\"#000000\" points=\"1455,-885 1349,-885 1349,-817 1455,-817 1455,-885\"/>\n<text text-anchor=\"middle\" x=\"1402\" y=\"-869.8\" font-family=\"Times,serif\" font-size=\"14.00\" fill=\"#000000\">X[1490] &lt;= 0.5</text>\n<text text-anchor=\"middle\" x=\"1402\" y=\"-854.8\" font-family=\"Times,serif\" font-size=\"14.00\" fill=\"#000000\">entropy = 0.254</text>\n<text text-anchor=\"middle\" x=\"1402\" y=\"-839.8\" font-family=\"Times,serif\" font-size=\"14.00\" fill=\"#000000\">samples = 47</text>\n<text text-anchor=\"middle\" x=\"1402\" y=\"-824.8\" font-family=\"Times,serif\" font-size=\"14.00\" fill=\"#000000\">value = [2, 45]</text>\n</g>\n<!-- 39&#45;&gt;40 -->\n<g id=\"edge40\" class=\"edge\">\n<title>39&#45;&gt;40</title>\n<path fill=\"none\" stroke=\"#000000\" d=\"M1441.0086,-920.9465C1436.2017,-912.3271 1430.9765,-902.9579 1425.9591,-893.9611\"/>\n<polygon fill=\"#000000\" stroke=\"#000000\" points=\"1428.9615,-892.1589 1421.034,-885.13 1422.848,-895.5684 1428.9615,-892.1589\"/>\n</g>\n<!-- 49 -->\n<g id=\"node50\" class=\"node\">\n<title>49</title>\n<polygon fill=\"none\" stroke=\"#000000\" points=\"1565,-877.5 1473,-877.5 1473,-824.5 1565,-824.5 1565,-877.5\"/>\n<text text-anchor=\"middle\" x=\"1519\" y=\"-862.3\" font-family=\"Times,serif\" font-size=\"14.00\" fill=\"#000000\">entropy = 0.0</text>\n<text text-anchor=\"middle\" x=\"1519\" y=\"-847.3\" font-family=\"Times,serif\" font-size=\"14.00\" fill=\"#000000\">samples = 2</text>\n<text text-anchor=\"middle\" x=\"1519\" y=\"-832.3\" font-family=\"Times,serif\" font-size=\"14.00\" fill=\"#000000\">value = [2, 0]</text>\n</g>\n<!-- 39&#45;&gt;49 -->\n<g id=\"edge49\" class=\"edge\">\n<title>39&#45;&gt;49</title>\n<path fill=\"none\" stroke=\"#000000\" d=\"M1479.3188,-920.9465C1485.5676,-909.9316 1492.5112,-897.6922 1498.8207,-886.5703\"/>\n<polygon fill=\"#000000\" stroke=\"#000000\" points=\"1502.0523,-887.967 1503.9424,-877.5422 1495.9638,-884.513 1502.0523,-887.967\"/>\n</g>\n<!-- 41 -->\n<g id=\"node42\" class=\"node\">\n<title>41</title>\n<polygon fill=\"none\" stroke=\"#000000\" points=\"1429,-781 1323,-781 1323,-713 1429,-713 1429,-781\"/>\n<text text-anchor=\"middle\" x=\"1376\" y=\"-765.8\" font-family=\"Times,serif\" font-size=\"14.00\" fill=\"#000000\">X[650] &lt;= 0.5</text>\n<text text-anchor=\"middle\" x=\"1376\" y=\"-750.8\" font-family=\"Times,serif\" font-size=\"14.00\" fill=\"#000000\">entropy = 0.151</text>\n<text text-anchor=\"middle\" x=\"1376\" y=\"-735.8\" font-family=\"Times,serif\" font-size=\"14.00\" fill=\"#000000\">samples = 46</text>\n<text text-anchor=\"middle\" x=\"1376\" y=\"-720.8\" font-family=\"Times,serif\" font-size=\"14.00\" fill=\"#000000\">value = [1, 45]</text>\n</g>\n<!-- 40&#45;&gt;41 -->\n<g id=\"edge41\" class=\"edge\">\n<title>40&#45;&gt;41</title>\n<path fill=\"none\" stroke=\"#000000\" d=\"M1393.4866,-816.9465C1391.4216,-808.6863 1389.1843,-799.7374 1387.0219,-791.0875\"/>\n<polygon fill=\"#000000\" stroke=\"#000000\" points=\"1390.3534,-789.9825 1384.5325,-781.13 1383.5624,-791.6803 1390.3534,-789.9825\"/>\n</g>\n<!-- 48 -->\n<g id=\"node49\" class=\"node\">\n<title>48</title>\n<polygon fill=\"none\" stroke=\"#000000\" points=\"1539,-773.5 1447,-773.5 1447,-720.5 1539,-720.5 1539,-773.5\"/>\n<text text-anchor=\"middle\" x=\"1493\" y=\"-758.3\" font-family=\"Times,serif\" font-size=\"14.00\" fill=\"#000000\">entropy = 0.0</text>\n<text text-anchor=\"middle\" x=\"1493\" y=\"-743.3\" font-family=\"Times,serif\" font-size=\"14.00\" fill=\"#000000\">samples = 1</text>\n<text text-anchor=\"middle\" x=\"1493\" y=\"-728.3\" font-family=\"Times,serif\" font-size=\"14.00\" fill=\"#000000\">value = [1, 0]</text>\n</g>\n<!-- 40&#45;&gt;48 -->\n<g id=\"edge48\" class=\"edge\">\n<title>40&#45;&gt;48</title>\n<path fill=\"none\" stroke=\"#000000\" d=\"M1431.7968,-816.9465C1441.8204,-805.491 1453.0028,-792.711 1463.039,-781.2412\"/>\n<polygon fill=\"#000000\" stroke=\"#000000\" points=\"1465.8246,-783.3727 1469.7756,-773.5422 1460.5565,-778.7632 1465.8246,-783.3727\"/>\n</g>\n<!-- 42 -->\n<g id=\"node43\" class=\"node\">\n<title>42</title>\n<polygon fill=\"none\" stroke=\"#000000\" points=\"1356.5,-669.5 1257.5,-669.5 1257.5,-616.5 1356.5,-616.5 1356.5,-669.5\"/>\n<text text-anchor=\"middle\" x=\"1307\" y=\"-654.3\" font-family=\"Times,serif\" font-size=\"14.00\" fill=\"#000000\">entropy = 0.0</text>\n<text text-anchor=\"middle\" x=\"1307\" y=\"-639.3\" font-family=\"Times,serif\" font-size=\"14.00\" fill=\"#000000\">samples = 42</text>\n<text text-anchor=\"middle\" x=\"1307\" y=\"-624.3\" font-family=\"Times,serif\" font-size=\"14.00\" fill=\"#000000\">value = [0, 42]</text>\n</g>\n<!-- 41&#45;&gt;42 -->\n<g id=\"edge42\" class=\"edge\">\n<title>41&#45;&gt;42</title>\n<path fill=\"none\" stroke=\"#000000\" d=\"M1353.4068,-712.9465C1345.9527,-701.7113 1337.6533,-689.2021 1330.1577,-677.9043\"/>\n<polygon fill=\"#000000\" stroke=\"#000000\" points=\"1333.0547,-675.94 1324.6097,-669.5422 1327.2218,-679.81 1333.0547,-675.94\"/>\n</g>\n<!-- 43 -->\n<g id=\"node44\" class=\"node\">\n<title>43</title>\n<polygon fill=\"none\" stroke=\"#000000\" points=\"1481,-677 1375,-677 1375,-609 1481,-609 1481,-677\"/>\n<text text-anchor=\"middle\" x=\"1428\" y=\"-661.8\" font-family=\"Times,serif\" font-size=\"14.00\" fill=\"#000000\">X[2] &lt;= 2.333</text>\n<text text-anchor=\"middle\" x=\"1428\" y=\"-646.8\" font-family=\"Times,serif\" font-size=\"14.00\" fill=\"#000000\">entropy = 0.811</text>\n<text text-anchor=\"middle\" x=\"1428\" y=\"-631.8\" font-family=\"Times,serif\" font-size=\"14.00\" fill=\"#000000\">samples = 4</text>\n<text text-anchor=\"middle\" x=\"1428\" y=\"-616.8\" font-family=\"Times,serif\" font-size=\"14.00\" fill=\"#000000\">value = [1, 3]</text>\n</g>\n<!-- 41&#45;&gt;43 -->\n<g id=\"edge43\" class=\"edge\">\n<title>41&#45;&gt;43</title>\n<path fill=\"none\" stroke=\"#000000\" d=\"M1393.0267,-712.9465C1397.2915,-704.4169 1401.9235,-695.153 1406.3788,-686.2424\"/>\n<polygon fill=\"#000000\" stroke=\"#000000\" points=\"1409.5933,-687.6395 1410.935,-677.13 1403.3323,-684.509 1409.5933,-687.6395\"/>\n</g>\n<!-- 44 -->\n<g id=\"node45\" class=\"node\">\n<title>44</title>\n<polygon fill=\"none\" stroke=\"#000000\" points=\"1359,-565.5 1267,-565.5 1267,-512.5 1359,-512.5 1359,-565.5\"/>\n<text text-anchor=\"middle\" x=\"1313\" y=\"-550.3\" font-family=\"Times,serif\" font-size=\"14.00\" fill=\"#000000\">entropy = 0.0</text>\n<text text-anchor=\"middle\" x=\"1313\" y=\"-535.3\" font-family=\"Times,serif\" font-size=\"14.00\" fill=\"#000000\">samples = 1</text>\n<text text-anchor=\"middle\" x=\"1313\" y=\"-520.3\" font-family=\"Times,serif\" font-size=\"14.00\" fill=\"#000000\">value = [0, 1]</text>\n</g>\n<!-- 43&#45;&gt;44 -->\n<g id=\"edge44\" class=\"edge\">\n<title>43&#45;&gt;44</title>\n<path fill=\"none\" stroke=\"#000000\" d=\"M1390.3447,-608.9465C1377.3122,-597.1606 1362.7294,-583.9726 1349.7689,-572.2519\"/>\n<polygon fill=\"#000000\" stroke=\"#000000\" points=\"1352.114,-569.6537 1342.3495,-565.5422 1347.4188,-574.8456 1352.114,-569.6537\"/>\n</g>\n<!-- 45 -->\n<g id=\"node46\" class=\"node\">\n<title>45</title>\n<polygon fill=\"none\" stroke=\"#000000\" points=\"1483,-573 1377,-573 1377,-505 1483,-505 1483,-573\"/>\n<text text-anchor=\"middle\" x=\"1430\" y=\"-557.8\" font-family=\"Times,serif\" font-size=\"14.00\" fill=\"#000000\">X[2] &lt;= 3.583</text>\n<text text-anchor=\"middle\" x=\"1430\" y=\"-542.8\" font-family=\"Times,serif\" font-size=\"14.00\" fill=\"#000000\">entropy = 0.918</text>\n<text text-anchor=\"middle\" x=\"1430\" y=\"-527.8\" font-family=\"Times,serif\" font-size=\"14.00\" fill=\"#000000\">samples = 3</text>\n<text text-anchor=\"middle\" x=\"1430\" y=\"-512.8\" font-family=\"Times,serif\" font-size=\"14.00\" fill=\"#000000\">value = [1, 2]</text>\n</g>\n<!-- 43&#45;&gt;45 -->\n<g id=\"edge45\" class=\"edge\">\n<title>43&#45;&gt;45</title>\n<path fill=\"none\" stroke=\"#000000\" d=\"M1428.6549,-608.9465C1428.812,-600.776 1428.9821,-591.9318 1429.1467,-583.3697\"/>\n<polygon fill=\"#000000\" stroke=\"#000000\" points=\"1432.6506,-583.1955 1429.3437,-573.13 1425.6519,-583.0608 1432.6506,-583.1955\"/>\n</g>\n<!-- 46 -->\n<g id=\"node47\" class=\"node\">\n<title>46</title>\n<polygon fill=\"none\" stroke=\"#000000\" points=\"1421,-461.5 1329,-461.5 1329,-408.5 1421,-408.5 1421,-461.5\"/>\n<text text-anchor=\"middle\" x=\"1375\" y=\"-446.3\" font-family=\"Times,serif\" font-size=\"14.00\" fill=\"#000000\">entropy = 1.0</text>\n<text text-anchor=\"middle\" x=\"1375\" y=\"-431.3\" font-family=\"Times,serif\" font-size=\"14.00\" fill=\"#000000\">samples = 2</text>\n<text text-anchor=\"middle\" x=\"1375\" y=\"-416.3\" font-family=\"Times,serif\" font-size=\"14.00\" fill=\"#000000\">value = [1, 1]</text>\n</g>\n<!-- 45&#45;&gt;46 -->\n<g id=\"edge46\" class=\"edge\">\n<title>45&#45;&gt;46</title>\n<path fill=\"none\" stroke=\"#000000\" d=\"M1411.9909,-504.9465C1406.1658,-493.9316 1399.693,-481.6922 1393.8112,-470.5703\"/>\n<polygon fill=\"#000000\" stroke=\"#000000\" points=\"1396.8057,-468.7459 1389.0367,-461.5422 1390.6178,-472.0184 1396.8057,-468.7459\"/>\n</g>\n<!-- 47 -->\n<g id=\"node48\" class=\"node\">\n<title>47</title>\n<polygon fill=\"none\" stroke=\"#000000\" points=\"1531,-461.5 1439,-461.5 1439,-408.5 1531,-408.5 1531,-461.5\"/>\n<text text-anchor=\"middle\" x=\"1485\" y=\"-446.3\" font-family=\"Times,serif\" font-size=\"14.00\" fill=\"#000000\">entropy = 0.0</text>\n<text text-anchor=\"middle\" x=\"1485\" y=\"-431.3\" font-family=\"Times,serif\" font-size=\"14.00\" fill=\"#000000\">samples = 1</text>\n<text text-anchor=\"middle\" x=\"1485\" y=\"-416.3\" font-family=\"Times,serif\" font-size=\"14.00\" fill=\"#000000\">value = [0, 1]</text>\n</g>\n<!-- 45&#45;&gt;47 -->\n<g id=\"edge47\" class=\"edge\">\n<title>45&#45;&gt;47</title>\n<path fill=\"none\" stroke=\"#000000\" d=\"M1448.0091,-504.9465C1453.8342,-493.9316 1460.307,-481.6922 1466.1888,-470.5703\"/>\n<polygon fill=\"#000000\" stroke=\"#000000\" points=\"1469.3822,-472.0184 1470.9633,-461.5422 1463.1943,-468.7459 1469.3822,-472.0184\"/>\n</g>\n<!-- 51 -->\n<g id=\"node52\" class=\"node\">\n<title>51</title>\n<polygon fill=\"none\" stroke=\"#000000\" points=\"1837.5,-989 1724.5,-989 1724.5,-921 1837.5,-921 1837.5,-989\"/>\n<text text-anchor=\"middle\" x=\"1781\" y=\"-973.8\" font-family=\"Times,serif\" font-size=\"14.00\" fill=\"#000000\">X[0] &lt;= 93.5</text>\n<text text-anchor=\"middle\" x=\"1781\" y=\"-958.8\" font-family=\"Times,serif\" font-size=\"14.00\" fill=\"#000000\">entropy = 0.352</text>\n<text text-anchor=\"middle\" x=\"1781\" y=\"-943.8\" font-family=\"Times,serif\" font-size=\"14.00\" fill=\"#000000\">samples = 166</text>\n<text text-anchor=\"middle\" x=\"1781\" y=\"-928.8\" font-family=\"Times,serif\" font-size=\"14.00\" fill=\"#000000\">value = [11, 155]</text>\n</g>\n<!-- 50&#45;&gt;51 -->\n<g id=\"edge51\" class=\"edge\">\n<title>50&#45;&gt;51</title>\n<path fill=\"none\" stroke=\"#000000\" d=\"M1781,-1024.9465C1781,-1016.776 1781,-1007.9318 1781,-999.3697\"/>\n<polygon fill=\"#000000\" stroke=\"#000000\" points=\"1784.5001,-999.13 1781,-989.13 1777.5001,-999.13 1784.5001,-999.13\"/>\n</g>\n<!-- 62 -->\n<g id=\"node63\" class=\"node\">\n<title>62</title>\n<polygon fill=\"none\" stroke=\"#000000\" points=\"2062.5,-989 1963.5,-989 1963.5,-921 2062.5,-921 2062.5,-989\"/>\n<text text-anchor=\"middle\" x=\"2013\" y=\"-973.8\" font-family=\"Times,serif\" font-size=\"14.00\" fill=\"#000000\">X[1] &lt;= 402.0</text>\n<text text-anchor=\"middle\" x=\"2013\" y=\"-958.8\" font-family=\"Times,serif\" font-size=\"14.00\" fill=\"#000000\">entropy = 0.48</text>\n<text text-anchor=\"middle\" x=\"2013\" y=\"-943.8\" font-family=\"Times,serif\" font-size=\"14.00\" fill=\"#000000\">samples = 29</text>\n<text text-anchor=\"middle\" x=\"2013\" y=\"-928.8\" font-family=\"Times,serif\" font-size=\"14.00\" fill=\"#000000\">value = [26, 3]</text>\n</g>\n<!-- 50&#45;&gt;62 -->\n<g id=\"edge62\" class=\"edge\">\n<title>50&#45;&gt;62</title>\n<path fill=\"none\" stroke=\"#000000\" d=\"M1837.7536,-1033.5587C1872.9724,-1017.771 1918.1512,-997.5184 1953.8153,-981.5311\"/>\n<polygon fill=\"#000000\" stroke=\"#000000\" points=\"1955.4411,-984.6379 1963.1345,-977.3535 1952.5776,-978.2503 1955.4411,-984.6379\"/>\n</g>\n<!-- 52 -->\n<g id=\"node53\" class=\"node\">\n<title>52</title>\n<polygon fill=\"none\" stroke=\"#000000\" points=\"1776,-885 1670,-885 1670,-817 1776,-817 1776,-885\"/>\n<text text-anchor=\"middle\" x=\"1723\" y=\"-869.8\" font-family=\"Times,serif\" font-size=\"14.00\" fill=\"#000000\">X[0] &lt;= 50.5</text>\n<text text-anchor=\"middle\" x=\"1723\" y=\"-854.8\" font-family=\"Times,serif\" font-size=\"14.00\" fill=\"#000000\">entropy = 0.136</text>\n<text text-anchor=\"middle\" x=\"1723\" y=\"-839.8\" font-family=\"Times,serif\" font-size=\"14.00\" fill=\"#000000\">samples = 158</text>\n<text text-anchor=\"middle\" x=\"1723\" y=\"-824.8\" font-family=\"Times,serif\" font-size=\"14.00\" fill=\"#000000\">value = [3, 155]</text>\n</g>\n<!-- 51&#45;&gt;52 -->\n<g id=\"edge52\" class=\"edge\">\n<title>51&#45;&gt;52</title>\n<path fill=\"none\" stroke=\"#000000\" d=\"M1762.0086,-920.9465C1757.2017,-912.3271 1751.9765,-902.9579 1746.9591,-893.9611\"/>\n<polygon fill=\"#000000\" stroke=\"#000000\" points=\"1749.9615,-892.1589 1742.034,-885.13 1743.848,-895.5684 1749.9615,-892.1589\"/>\n</g>\n<!-- 61 -->\n<g id=\"node62\" class=\"node\">\n<title>61</title>\n<polygon fill=\"none\" stroke=\"#000000\" points=\"1886,-877.5 1794,-877.5 1794,-824.5 1886,-824.5 1886,-877.5\"/>\n<text text-anchor=\"middle\" x=\"1840\" y=\"-862.3\" font-family=\"Times,serif\" font-size=\"14.00\" fill=\"#000000\">entropy = 0.0</text>\n<text text-anchor=\"middle\" x=\"1840\" y=\"-847.3\" font-family=\"Times,serif\" font-size=\"14.00\" fill=\"#000000\">samples = 8</text>\n<text text-anchor=\"middle\" x=\"1840\" y=\"-832.3\" font-family=\"Times,serif\" font-size=\"14.00\" fill=\"#000000\">value = [8, 0]</text>\n</g>\n<!-- 51&#45;&gt;61 -->\n<g id=\"edge61\" class=\"edge\">\n<title>51&#45;&gt;61</title>\n<path fill=\"none\" stroke=\"#000000\" d=\"M1800.3188,-920.9465C1806.5676,-909.9316 1813.5112,-897.6922 1819.8207,-886.5703\"/>\n<polygon fill=\"#000000\" stroke=\"#000000\" points=\"1823.0523,-887.967 1824.9424,-877.5422 1816.9638,-884.513 1823.0523,-887.967\"/>\n</g>\n<!-- 53 -->\n<g id=\"node54\" class=\"node\">\n<title>53</title>\n<polygon fill=\"none\" stroke=\"#000000\" points=\"1718,-781 1612,-781 1612,-713 1718,-713 1718,-781\"/>\n<text text-anchor=\"middle\" x=\"1665\" y=\"-765.8\" font-family=\"Times,serif\" font-size=\"14.00\" fill=\"#000000\">X[234] &lt;= 0.5</text>\n<text text-anchor=\"middle\" x=\"1665\" y=\"-750.8\" font-family=\"Times,serif\" font-size=\"14.00\" fill=\"#000000\">entropy = 0.811</text>\n<text text-anchor=\"middle\" x=\"1665\" y=\"-735.8\" font-family=\"Times,serif\" font-size=\"14.00\" fill=\"#000000\">samples = 8</text>\n<text text-anchor=\"middle\" x=\"1665\" y=\"-720.8\" font-family=\"Times,serif\" font-size=\"14.00\" fill=\"#000000\">value = [2, 6]</text>\n</g>\n<!-- 52&#45;&gt;53 -->\n<g id=\"edge53\" class=\"edge\">\n<title>52&#45;&gt;53</title>\n<path fill=\"none\" stroke=\"#000000\" d=\"M1704.0086,-816.9465C1699.2017,-808.3271 1693.9765,-798.9579 1688.9591,-789.9611\"/>\n<polygon fill=\"#000000\" stroke=\"#000000\" points=\"1691.9615,-788.1589 1684.034,-781.13 1685.848,-791.5684 1691.9615,-788.1589\"/>\n</g>\n<!-- 58 -->\n<g id=\"node59\" class=\"node\">\n<title>58</title>\n<polygon fill=\"none\" stroke=\"#000000\" points=\"1842,-781 1736,-781 1736,-713 1842,-713 1842,-781\"/>\n<text text-anchor=\"middle\" x=\"1789\" y=\"-765.8\" font-family=\"Times,serif\" font-size=\"14.00\" fill=\"#000000\">X[888] &lt;= 0.5</text>\n<text text-anchor=\"middle\" x=\"1789\" y=\"-750.8\" font-family=\"Times,serif\" font-size=\"14.00\" fill=\"#000000\">entropy = 0.058</text>\n<text text-anchor=\"middle\" x=\"1789\" y=\"-735.8\" font-family=\"Times,serif\" font-size=\"14.00\" fill=\"#000000\">samples = 150</text>\n<text text-anchor=\"middle\" x=\"1789\" y=\"-720.8\" font-family=\"Times,serif\" font-size=\"14.00\" fill=\"#000000\">value = [1, 149]</text>\n</g>\n<!-- 52&#45;&gt;58 -->\n<g id=\"edge58\" class=\"edge\">\n<title>52&#45;&gt;58</title>\n<path fill=\"none\" stroke=\"#000000\" d=\"M1744.6109,-816.9465C1750.1378,-808.2373 1756.1506,-798.7626 1761.9146,-789.6801\"/>\n<polygon fill=\"#000000\" stroke=\"#000000\" points=\"1764.9374,-791.4487 1767.3406,-781.13 1759.0271,-787.6979 1764.9374,-791.4487\"/>\n</g>\n<!-- 54 -->\n<g id=\"node55\" class=\"node\">\n<title>54</title>\n<polygon fill=\"none\" stroke=\"#000000\" points=\"1605,-677 1499,-677 1499,-609 1605,-609 1605,-677\"/>\n<text text-anchor=\"middle\" x=\"1552\" y=\"-661.8\" font-family=\"Times,serif\" font-size=\"14.00\" fill=\"#000000\">X[187] &lt;= 0.5</text>\n<text text-anchor=\"middle\" x=\"1552\" y=\"-646.8\" font-family=\"Times,serif\" font-size=\"14.00\" fill=\"#000000\">entropy = 0.592</text>\n<text text-anchor=\"middle\" x=\"1552\" y=\"-631.8\" font-family=\"Times,serif\" font-size=\"14.00\" fill=\"#000000\">samples = 7</text>\n<text text-anchor=\"middle\" x=\"1552\" y=\"-616.8\" font-family=\"Times,serif\" font-size=\"14.00\" fill=\"#000000\">value = [1, 6]</text>\n</g>\n<!-- 53&#45;&gt;54 -->\n<g id=\"edge54\" class=\"edge\">\n<title>53&#45;&gt;54</title>\n<path fill=\"none\" stroke=\"#000000\" d=\"M1627.9996,-712.9465C1617.9514,-703.6986 1606.9653,-693.5876 1596.5474,-683.9994\"/>\n<polygon fill=\"#000000\" stroke=\"#000000\" points=\"1598.8118,-681.3267 1589.0836,-677.13 1594.0714,-686.4773 1598.8118,-681.3267\"/>\n</g>\n<!-- 57 -->\n<g id=\"node58\" class=\"node\">\n<title>57</title>\n<polygon fill=\"none\" stroke=\"#000000\" points=\"1715,-669.5 1623,-669.5 1623,-616.5 1715,-616.5 1715,-669.5\"/>\n<text text-anchor=\"middle\" x=\"1669\" y=\"-654.3\" font-family=\"Times,serif\" font-size=\"14.00\" fill=\"#000000\">entropy = 0.0</text>\n<text text-anchor=\"middle\" x=\"1669\" y=\"-639.3\" font-family=\"Times,serif\" font-size=\"14.00\" fill=\"#000000\">samples = 1</text>\n<text text-anchor=\"middle\" x=\"1669\" y=\"-624.3\" font-family=\"Times,serif\" font-size=\"14.00\" fill=\"#000000\">value = [1, 0]</text>\n</g>\n<!-- 53&#45;&gt;57 -->\n<g id=\"edge57\" class=\"edge\">\n<title>53&#45;&gt;57</title>\n<path fill=\"none\" stroke=\"#000000\" d=\"M1666.3097,-712.9465C1666.7207,-702.2621 1667.1759,-690.4254 1667.5933,-679.5742\"/>\n<polygon fill=\"#000000\" stroke=\"#000000\" points=\"1671.0921,-679.6693 1667.9791,-669.5422 1664.0973,-679.4002 1671.0921,-679.6693\"/>\n</g>\n<!-- 55 -->\n<g id=\"node56\" class=\"node\">\n<title>55</title>\n<polygon fill=\"none\" stroke=\"#000000\" points=\"1596,-565.5 1504,-565.5 1504,-512.5 1596,-512.5 1596,-565.5\"/>\n<text text-anchor=\"middle\" x=\"1550\" y=\"-550.3\" font-family=\"Times,serif\" font-size=\"14.00\" fill=\"#000000\">entropy = 0.0</text>\n<text text-anchor=\"middle\" x=\"1550\" y=\"-535.3\" font-family=\"Times,serif\" font-size=\"14.00\" fill=\"#000000\">samples = 6</text>\n<text text-anchor=\"middle\" x=\"1550\" y=\"-520.3\" font-family=\"Times,serif\" font-size=\"14.00\" fill=\"#000000\">value = [0, 6]</text>\n</g>\n<!-- 54&#45;&gt;55 -->\n<g id=\"edge55\" class=\"edge\">\n<title>54&#45;&gt;55</title>\n<path fill=\"none\" stroke=\"#000000\" d=\"M1551.3451,-608.9465C1551.1397,-598.2621 1550.912,-586.4254 1550.7034,-575.5742\"/>\n<polygon fill=\"#000000\" stroke=\"#000000\" points=\"1554.2021,-575.473 1550.5104,-565.5422 1547.2034,-575.6076 1554.2021,-575.473\"/>\n</g>\n<!-- 56 -->\n<g id=\"node57\" class=\"node\">\n<title>56</title>\n<polygon fill=\"none\" stroke=\"#000000\" points=\"1706,-565.5 1614,-565.5 1614,-512.5 1706,-512.5 1706,-565.5\"/>\n<text text-anchor=\"middle\" x=\"1660\" y=\"-550.3\" font-family=\"Times,serif\" font-size=\"14.00\" fill=\"#000000\">entropy = 0.0</text>\n<text text-anchor=\"middle\" x=\"1660\" y=\"-535.3\" font-family=\"Times,serif\" font-size=\"14.00\" fill=\"#000000\">samples = 1</text>\n<text text-anchor=\"middle\" x=\"1660\" y=\"-520.3\" font-family=\"Times,serif\" font-size=\"14.00\" fill=\"#000000\">value = [1, 0]</text>\n</g>\n<!-- 54&#45;&gt;56 -->\n<g id=\"edge56\" class=\"edge\">\n<title>54&#45;&gt;56</title>\n<path fill=\"none\" stroke=\"#000000\" d=\"M1587.3632,-608.9465C1599.4881,-597.2707 1613.0418,-584.219 1625.1275,-572.5809\"/>\n<polygon fill=\"#000000\" stroke=\"#000000\" points=\"1627.6615,-574.9997 1632.437,-565.5422 1622.806,-569.9575 1627.6615,-574.9997\"/>\n</g>\n<!-- 59 -->\n<g id=\"node60\" class=\"node\">\n<title>59</title>\n<polygon fill=\"none\" stroke=\"#000000\" points=\"1839,-669.5 1733,-669.5 1733,-616.5 1839,-616.5 1839,-669.5\"/>\n<text text-anchor=\"middle\" x=\"1786\" y=\"-654.3\" font-family=\"Times,serif\" font-size=\"14.00\" fill=\"#000000\">entropy = 0.0</text>\n<text text-anchor=\"middle\" x=\"1786\" y=\"-639.3\" font-family=\"Times,serif\" font-size=\"14.00\" fill=\"#000000\">samples = 149</text>\n<text text-anchor=\"middle\" x=\"1786\" y=\"-624.3\" font-family=\"Times,serif\" font-size=\"14.00\" fill=\"#000000\">value = [0, 149]</text>\n</g>\n<!-- 58&#45;&gt;59 -->\n<g id=\"edge59\" class=\"edge\">\n<title>58&#45;&gt;59</title>\n<path fill=\"none\" stroke=\"#000000\" d=\"M1788.0177,-712.9465C1787.7095,-702.2621 1787.368,-690.4254 1787.055,-679.5742\"/>\n<polygon fill=\"#000000\" stroke=\"#000000\" points=\"1790.5526,-679.4371 1786.7656,-669.5422 1783.5555,-679.639 1790.5526,-679.4371\"/>\n</g>\n<!-- 60 -->\n<g id=\"node61\" class=\"node\">\n<title>60</title>\n<polygon fill=\"none\" stroke=\"#000000\" points=\"1949,-669.5 1857,-669.5 1857,-616.5 1949,-616.5 1949,-669.5\"/>\n<text text-anchor=\"middle\" x=\"1903\" y=\"-654.3\" font-family=\"Times,serif\" font-size=\"14.00\" fill=\"#000000\">entropy = 0.0</text>\n<text text-anchor=\"middle\" x=\"1903\" y=\"-639.3\" font-family=\"Times,serif\" font-size=\"14.00\" fill=\"#000000\">samples = 1</text>\n<text text-anchor=\"middle\" x=\"1903\" y=\"-624.3\" font-family=\"Times,serif\" font-size=\"14.00\" fill=\"#000000\">value = [1, 0]</text>\n</g>\n<!-- 58&#45;&gt;60 -->\n<g id=\"edge60\" class=\"edge\">\n<title>58&#45;&gt;60</title>\n<path fill=\"none\" stroke=\"#000000\" d=\"M1826.3279,-712.9465C1839.1263,-701.2707 1853.433,-688.219 1866.1901,-676.5809\"/>\n<polygon fill=\"#000000\" stroke=\"#000000\" points=\"1868.8769,-678.8675 1873.9057,-669.5422 1864.1591,-673.6961 1868.8769,-678.8675\"/>\n</g>\n<!-- 63 -->\n<g id=\"node64\" class=\"node\">\n<title>63</title>\n<polygon fill=\"none\" stroke=\"#000000\" points=\"2066,-885 1960,-885 1960,-817 2066,-817 2066,-885\"/>\n<text text-anchor=\"middle\" x=\"2013\" y=\"-869.8\" font-family=\"Times,serif\" font-size=\"14.00\" fill=\"#000000\">X[520] &lt;= 0.5</text>\n<text text-anchor=\"middle\" x=\"2013\" y=\"-854.8\" font-family=\"Times,serif\" font-size=\"14.00\" fill=\"#000000\">entropy = 0.954</text>\n<text text-anchor=\"middle\" x=\"2013\" y=\"-839.8\" font-family=\"Times,serif\" font-size=\"14.00\" fill=\"#000000\">samples = 8</text>\n<text text-anchor=\"middle\" x=\"2013\" y=\"-824.8\" font-family=\"Times,serif\" font-size=\"14.00\" fill=\"#000000\">value = [5, 3]</text>\n</g>\n<!-- 62&#45;&gt;63 -->\n<g id=\"edge63\" class=\"edge\">\n<title>62&#45;&gt;63</title>\n<path fill=\"none\" stroke=\"#000000\" d=\"M2013,-920.9465C2013,-912.776 2013,-903.9318 2013,-895.3697\"/>\n<polygon fill=\"#000000\" stroke=\"#000000\" points=\"2016.5001,-895.13 2013,-885.13 2009.5001,-895.13 2016.5001,-895.13\"/>\n</g>\n<!-- 68 -->\n<g id=\"node69\" class=\"node\">\n<title>68</title>\n<polygon fill=\"none\" stroke=\"#000000\" points=\"2183.5,-877.5 2084.5,-877.5 2084.5,-824.5 2183.5,-824.5 2183.5,-877.5\"/>\n<text text-anchor=\"middle\" x=\"2134\" y=\"-862.3\" font-family=\"Times,serif\" font-size=\"14.00\" fill=\"#000000\">entropy = 0.0</text>\n<text text-anchor=\"middle\" x=\"2134\" y=\"-847.3\" font-family=\"Times,serif\" font-size=\"14.00\" fill=\"#000000\">samples = 21</text>\n<text text-anchor=\"middle\" x=\"2134\" y=\"-832.3\" font-family=\"Times,serif\" font-size=\"14.00\" fill=\"#000000\">value = [21, 0]</text>\n</g>\n<!-- 62&#45;&gt;68 -->\n<g id=\"edge68\" class=\"edge\">\n<title>62&#45;&gt;68</title>\n<path fill=\"none\" stroke=\"#000000\" d=\"M2052.6199,-920.9465C2066.3324,-909.1606 2081.6761,-895.9726 2095.3127,-884.2519\"/>\n<polygon fill=\"#000000\" stroke=\"#000000\" points=\"2097.8169,-886.7147 2103.1192,-877.5422 2093.2541,-881.4061 2097.8169,-886.7147\"/>\n</g>\n<!-- 64 -->\n<g id=\"node65\" class=\"node\">\n<title>64</title>\n<polygon fill=\"none\" stroke=\"#000000\" points=\"2065,-781 1961,-781 1961,-713 2065,-713 2065,-781\"/>\n<text text-anchor=\"middle\" x=\"2013\" y=\"-765.8\" font-family=\"Times,serif\" font-size=\"14.00\" fill=\"#000000\">X[1454] &lt;= 0.5</text>\n<text text-anchor=\"middle\" x=\"2013\" y=\"-750.8\" font-family=\"Times,serif\" font-size=\"14.00\" fill=\"#000000\">entropy = 0.65</text>\n<text text-anchor=\"middle\" x=\"2013\" y=\"-735.8\" font-family=\"Times,serif\" font-size=\"14.00\" fill=\"#000000\">samples = 6</text>\n<text text-anchor=\"middle\" x=\"2013\" y=\"-720.8\" font-family=\"Times,serif\" font-size=\"14.00\" fill=\"#000000\">value = [5, 1]</text>\n</g>\n<!-- 63&#45;&gt;64 -->\n<g id=\"edge64\" class=\"edge\">\n<title>63&#45;&gt;64</title>\n<path fill=\"none\" stroke=\"#000000\" d=\"M2013,-816.9465C2013,-808.776 2013,-799.9318 2013,-791.3697\"/>\n<polygon fill=\"#000000\" stroke=\"#000000\" points=\"2016.5001,-791.13 2013,-781.13 2009.5001,-791.13 2016.5001,-791.13\"/>\n</g>\n<!-- 67 -->\n<g id=\"node68\" class=\"node\">\n<title>67</title>\n<polygon fill=\"none\" stroke=\"#000000\" points=\"2175,-773.5 2083,-773.5 2083,-720.5 2175,-720.5 2175,-773.5\"/>\n<text text-anchor=\"middle\" x=\"2129\" y=\"-758.3\" font-family=\"Times,serif\" font-size=\"14.00\" fill=\"#000000\">entropy = 0.0</text>\n<text text-anchor=\"middle\" x=\"2129\" y=\"-743.3\" font-family=\"Times,serif\" font-size=\"14.00\" fill=\"#000000\">samples = 2</text>\n<text text-anchor=\"middle\" x=\"2129\" y=\"-728.3\" font-family=\"Times,serif\" font-size=\"14.00\" fill=\"#000000\">value = [0, 2]</text>\n</g>\n<!-- 63&#45;&gt;67 -->\n<g id=\"edge67\" class=\"edge\">\n<title>63&#45;&gt;67</title>\n<path fill=\"none\" stroke=\"#000000\" d=\"M2050.9827,-816.9465C2064.1286,-805.1606 2078.8382,-791.9726 2091.9113,-780.2519\"/>\n<polygon fill=\"#000000\" stroke=\"#000000\" points=\"2094.286,-782.8236 2099.3953,-773.5422 2089.6131,-777.6116 2094.286,-782.8236\"/>\n</g>\n<!-- 65 -->\n<g id=\"node66\" class=\"node\">\n<title>65</title>\n<polygon fill=\"none\" stroke=\"#000000\" points=\"2059,-669.5 1967,-669.5 1967,-616.5 2059,-616.5 2059,-669.5\"/>\n<text text-anchor=\"middle\" x=\"2013\" y=\"-654.3\" font-family=\"Times,serif\" font-size=\"14.00\" fill=\"#000000\">entropy = 0.0</text>\n<text text-anchor=\"middle\" x=\"2013\" y=\"-639.3\" font-family=\"Times,serif\" font-size=\"14.00\" fill=\"#000000\">samples = 5</text>\n<text text-anchor=\"middle\" x=\"2013\" y=\"-624.3\" font-family=\"Times,serif\" font-size=\"14.00\" fill=\"#000000\">value = [5, 0]</text>\n</g>\n<!-- 64&#45;&gt;65 -->\n<g id=\"edge65\" class=\"edge\">\n<title>64&#45;&gt;65</title>\n<path fill=\"none\" stroke=\"#000000\" d=\"M2013,-712.9465C2013,-702.2621 2013,-690.4254 2013,-679.5742\"/>\n<polygon fill=\"#000000\" stroke=\"#000000\" points=\"2016.5001,-679.5421 2013,-669.5422 2009.5001,-679.5422 2016.5001,-679.5421\"/>\n</g>\n<!-- 66 -->\n<g id=\"node67\" class=\"node\">\n<title>66</title>\n<polygon fill=\"none\" stroke=\"#000000\" points=\"2169,-669.5 2077,-669.5 2077,-616.5 2169,-616.5 2169,-669.5\"/>\n<text text-anchor=\"middle\" x=\"2123\" y=\"-654.3\" font-family=\"Times,serif\" font-size=\"14.00\" fill=\"#000000\">entropy = 0.0</text>\n<text text-anchor=\"middle\" x=\"2123\" y=\"-639.3\" font-family=\"Times,serif\" font-size=\"14.00\" fill=\"#000000\">samples = 1</text>\n<text text-anchor=\"middle\" x=\"2123\" y=\"-624.3\" font-family=\"Times,serif\" font-size=\"14.00\" fill=\"#000000\">value = [0, 1]</text>\n</g>\n<!-- 64&#45;&gt;66 -->\n<g id=\"edge66\" class=\"edge\">\n<title>64&#45;&gt;66</title>\n<path fill=\"none\" stroke=\"#000000\" d=\"M2049.0181,-712.9465C2061.3675,-701.2707 2075.1722,-688.219 2087.4817,-676.5809\"/>\n<polygon fill=\"#000000\" stroke=\"#000000\" points=\"2090.0646,-678.9556 2094.9266,-669.5422 2085.2555,-673.869 2090.0646,-678.9556\"/>\n</g>\n</g>\n</svg>\n"
     },
     "metadata": {},
     "execution_count": 10
    }
   ],
   "source": [
    "## show the decision tree\n",
    "import graphviz\n",
    "from sklearn import tree\n",
    "dot_data = tree.export_graphviz(decision_tree=dt, out_file=None)\n",
    "graph = graphviz.Source(dot_data)\n",
    "graph\n",
    "# graph.render('dt')\n",
    "# Image(graph.create_png())"
   ]
  },
  {
   "cell_type": "code",
   "execution_count": 11,
   "metadata": {},
   "outputs": [],
   "source": [
    "y_pred = dt.predict(X_test)"
   ]
  },
  {
   "cell_type": "code",
   "execution_count": 12,
   "metadata": {},
   "outputs": [
    {
     "output_type": "stream",
     "name": "stdout",
     "text": "[[587   8]\n [ 18  95]]\ndecision tree accuracy: 0.96\ndecision tree precision: 0.92\ndecision tree recall: 0.84\ndecision tree f1: 0.88\n"
    }
   ],
   "source": [
    "## evaluate the model\n",
    "from sklearn.metrics import confusion_matrix, recall_score, precision_score, accuracy_score, classification_report, f1_score\n",
    "\n",
    "c_m = confusion_matrix(y_test, y_pred)\n",
    "print(c_m)\n",
    "\n",
    "dc_accuracy = accuracy_score(y_test, y_pred)\n",
    "dc_precision = precision_score(y_test, y_pred)\n",
    "dc_recall = recall_score(y_test, y_pred)\n",
    "dc_f1 = f1_score(y_test, y_pred)\n",
    "print(\"decision tree accuracy: %0.2f\" %dc_accuracy)\n",
    "print(\"decision tree precision: %0.2f\" %dc_precision)\n",
    "print(\"decision tree recall: %0.2f\" %dc_recall)\n",
    "print(\"decision tree f1: %0.2f\" %dc_f1)"
   ]
  },
  {
   "cell_type": "code",
   "execution_count": 39,
   "metadata": {},
   "outputs": [
    {
     "output_type": "execute_result",
     "data": {
      "text/plain": "Text(0.5, 1.0, 'Total Impurity vs effective alpha for training set')"
     },
     "metadata": {},
     "execution_count": 39
    }
   ],
   "source": [
    "## prune the tree\n",
    "import matplotlib.pyplot as plt \n",
    "clf = dt\n",
    "\n",
    "path = clf.cost_complexity_pruning_path(X_train, y_train)\n",
    "ccp_alphas, impurities = path.ccp_alphas, path.impurities\n",
    "\n",
    "fig, ax = plt.subplots()\n",
    "ax.plot(ccp_alphas[:-1], impurities[:-1], marker='o', drawstyle=\"steps-post\")\n",
    "ax.set_xlabel(\"effective alpha\")\n",
    "ax.set_ylabel(\"total impurity of leaves\")\n",
    "ax.set_title(\"Total Impurity vs effective alpha for training set\")"
   ]
  },
  {
   "cell_type": "code",
   "execution_count": 40,
   "metadata": {},
   "outputs": [
    {
     "output_type": "execute_result",
     "data": {
      "text/plain": "DecisionTreeClassifier(ccp_alpha=0.0, class_weight=None, criterion='gini',\n                       max_depth=None, max_features=None, max_leaf_nodes=None,\n                       min_impurity_decrease=0.0, min_impurity_split=None,\n                       min_samples_leaf=1, min_samples_split=2,\n                       min_weight_fraction_leaf=0.0, presort='deprecated',\n                       random_state=0, splitter='best')"
     },
     "metadata": {},
     "execution_count": 40
    },
    {
     "output_type": "execute_result",
     "data": {
      "text/plain": "DecisionTreeClassifier(ccp_alpha=0.0003770782852321415, class_weight=None,\n                       criterion='gini', max_depth=None, max_features=None,\n                       max_leaf_nodes=None, min_impurity_decrease=0.0,\n                       min_impurity_split=None, min_samples_leaf=1,\n                       min_samples_split=2, min_weight_fraction_leaf=0.0,\n                       presort='deprecated', random_state=0, splitter='best')"
     },
     "metadata": {},
     "execution_count": 40
    },
    {
     "output_type": "execute_result",
     "data": {
      "text/plain": "DecisionTreeClassifier(ccp_alpha=0.0014702462060185776, class_weight=None,\n                       criterion='gini', max_depth=None, max_features=None,\n                       max_leaf_nodes=None, min_impurity_decrease=0.0,\n                       min_impurity_split=None, min_samples_leaf=1,\n                       min_samples_split=2, min_weight_fraction_leaf=0.0,\n                       presort='deprecated', random_state=0, splitter='best')"
     },
     "metadata": {},
     "execution_count": 40
    },
    {
     "output_type": "execute_result",
     "data": {
      "text/plain": "DecisionTreeClassifier(ccp_alpha=0.0016686175058531004, class_weight=None,\n                       criterion='gini', max_depth=None, max_features=None,\n                       max_leaf_nodes=None, min_impurity_decrease=0.0,\n                       min_impurity_split=None, min_samples_leaf=1,\n                       min_samples_split=2, min_weight_fraction_leaf=0.0,\n                       presort='deprecated', random_state=0, splitter='best')"
     },
     "metadata": {},
     "execution_count": 40
    },
    {
     "output_type": "execute_result",
     "data": {
      "text/plain": "DecisionTreeClassifier(ccp_alpha=0.0016842635076477143, class_weight=None,\n                       criterion='gini', max_depth=None, max_features=None,\n                       max_leaf_nodes=None, min_impurity_decrease=0.0,\n                       min_impurity_split=None, min_samples_leaf=1,\n                       min_samples_split=2, min_weight_fraction_leaf=0.0,\n                       presort='deprecated', random_state=0, splitter='best')"
     },
     "metadata": {},
     "execution_count": 40
    },
    {
     "output_type": "execute_result",
     "data": {
      "text/plain": "DecisionTreeClassifier(ccp_alpha=0.0019655436086229747, class_weight=None,\n                       criterion='gini', max_depth=None, max_features=None,\n                       max_leaf_nodes=None, min_impurity_decrease=0.0,\n                       min_impurity_split=None, min_samples_leaf=1,\n                       min_samples_split=2, min_weight_fraction_leaf=0.0,\n                       presort='deprecated', random_state=0, splitter='best')"
     },
     "metadata": {},
     "execution_count": 40
    },
    {
     "output_type": "execute_result",
     "data": {
      "text/plain": "DecisionTreeClassifier(ccp_alpha=0.0019655436086229747, class_weight=None,\n                       criterion='gini', max_depth=None, max_features=None,\n                       max_leaf_nodes=None, min_impurity_decrease=0.0,\n                       min_impurity_split=None, min_samples_leaf=1,\n                       min_samples_split=2, min_weight_fraction_leaf=0.0,\n                       presort='deprecated', random_state=0, splitter='best')"
     },
     "metadata": {},
     "execution_count": 40
    },
    {
     "output_type": "execute_result",
     "data": {
      "text/plain": "DecisionTreeClassifier(ccp_alpha=0.002244305357935008, class_weight=None,\n                       criterion='gini', max_depth=None, max_features=None,\n                       max_leaf_nodes=None, min_impurity_decrease=0.0,\n                       min_impurity_split=None, min_samples_leaf=1,\n                       min_samples_split=2, min_weight_fraction_leaf=0.0,\n                       presort='deprecated', random_state=0, splitter='best')"
     },
     "metadata": {},
     "execution_count": 40
    },
    {
     "output_type": "execute_result",
     "data": {
      "text/plain": "DecisionTreeClassifier(ccp_alpha=0.0025231007949778487, class_weight=None,\n                       criterion='gini', max_depth=None, max_features=None,\n                       max_leaf_nodes=None, min_impurity_decrease=0.0,\n                       min_impurity_split=None, min_samples_leaf=1,\n                       min_samples_split=2, min_weight_fraction_leaf=0.0,\n                       presort='deprecated', random_state=0, splitter='best')"
     },
     "metadata": {},
     "execution_count": 40
    },
    {
     "output_type": "execute_result",
     "data": {
      "text/plain": "DecisionTreeClassifier(ccp_alpha=0.0030174597518027643, class_weight=None,\n                       criterion='gini', max_depth=None, max_features=None,\n                       max_leaf_nodes=None, min_impurity_decrease=0.0,\n                       min_impurity_split=None, min_samples_leaf=1,\n                       min_samples_split=2, min_weight_fraction_leaf=0.0,\n                       presort='deprecated', random_state=0, splitter='best')"
     },
     "metadata": {},
     "execution_count": 40
    },
    {
     "output_type": "execute_result",
     "data": {
      "text/plain": "DecisionTreeClassifier(ccp_alpha=0.003374792080379075, class_weight=None,\n                       criterion='gini', max_depth=None, max_features=None,\n                       max_leaf_nodes=None, min_impurity_decrease=0.0,\n                       min_impurity_split=None, min_samples_leaf=1,\n                       min_samples_split=2, min_weight_fraction_leaf=0.0,\n                       presort='deprecated', random_state=0, splitter='best')"
     },
     "metadata": {},
     "execution_count": 40
    },
    {
     "output_type": "execute_result",
     "data": {
      "text/plain": "DecisionTreeClassifier(ccp_alpha=0.003803547341894614, class_weight=None,\n                       criterion='gini', max_depth=None, max_features=None,\n                       max_leaf_nodes=None, min_impurity_decrease=0.0,\n                       min_impurity_split=None, min_samples_leaf=1,\n                       min_samples_split=2, min_weight_fraction_leaf=0.0,\n                       presort='deprecated', random_state=0, splitter='best')"
     },
     "metadata": {},
     "execution_count": 40
    },
    {
     "output_type": "execute_result",
     "data": {
      "text/plain": "DecisionTreeClassifier(ccp_alpha=0.0040127343244228675, class_weight=None,\n                       criterion='gini', max_depth=None, max_features=None,\n                       max_leaf_nodes=None, min_impurity_decrease=0.0,\n                       min_impurity_split=None, min_samples_leaf=1,\n                       min_samples_split=2, min_weight_fraction_leaf=0.0,\n                       presort='deprecated', random_state=0, splitter='best')"
     },
     "metadata": {},
     "execution_count": 40
    },
    {
     "output_type": "execute_result",
     "data": {
      "text/plain": "DecisionTreeClassifier(ccp_alpha=0.004473425481962631, class_weight=None,\n                       criterion='gini', max_depth=None, max_features=None,\n                       max_leaf_nodes=None, min_impurity_decrease=0.0,\n                       min_impurity_split=None, min_samples_leaf=1,\n                       min_samples_split=2, min_weight_fraction_leaf=0.0,\n                       presort='deprecated', random_state=0, splitter='best')"
     },
     "metadata": {},
     "execution_count": 40
    },
    {
     "output_type": "execute_result",
     "data": {
      "text/plain": "DecisionTreeClassifier(ccp_alpha=0.004528456358764055, class_weight=None,\n                       criterion='gini', max_depth=None, max_features=None,\n                       max_leaf_nodes=None, min_impurity_decrease=0.0,\n                       min_impurity_split=None, min_samples_leaf=1,\n                       min_samples_split=2, min_weight_fraction_leaf=0.0,\n                       presort='deprecated', random_state=0, splitter='best')"
     },
     "metadata": {},
     "execution_count": 40
    },
    {
     "output_type": "execute_result",
     "data": {
      "text/plain": "DecisionTreeClassifier(ccp_alpha=0.004624755919684869, class_weight=None,\n                       criterion='gini', max_depth=None, max_features=None,\n                       max_leaf_nodes=None, min_impurity_decrease=0.0,\n                       min_impurity_split=None, min_samples_leaf=1,\n                       min_samples_split=2, min_weight_fraction_leaf=0.0,\n                       presort='deprecated', random_state=0, splitter='best')"
     },
     "metadata": {},
     "execution_count": 40
    },
    {
     "output_type": "execute_result",
     "data": {
      "text/plain": "DecisionTreeClassifier(ccp_alpha=0.004878925701269683, class_weight=None,\n                       criterion='gini', max_depth=None, max_features=None,\n                       max_leaf_nodes=None, min_impurity_decrease=0.0,\n                       min_impurity_split=None, min_samples_leaf=1,\n                       min_samples_split=2, min_weight_fraction_leaf=0.0,\n                       presort='deprecated', random_state=0, splitter='best')"
     },
     "metadata": {},
     "execution_count": 40
    },
    {
     "output_type": "execute_result",
     "data": {
      "text/plain": "DecisionTreeClassifier(ccp_alpha=0.00531268554352974, class_weight=None,\n                       criterion='gini', max_depth=None, max_features=None,\n                       max_leaf_nodes=None, min_impurity_decrease=0.0,\n                       min_impurity_split=None, min_samples_leaf=1,\n                       min_samples_split=2, min_weight_fraction_leaf=0.0,\n                       presort='deprecated', random_state=0, splitter='best')"
     },
     "metadata": {},
     "execution_count": 40
    },
    {
     "output_type": "execute_result",
     "data": {
      "text/plain": "DecisionTreeClassifier(ccp_alpha=0.006300583495219286, class_weight=None,\n                       criterion='gini', max_depth=None, max_features=None,\n                       max_leaf_nodes=None, min_impurity_decrease=0.0,\n                       min_impurity_split=None, min_samples_leaf=1,\n                       min_samples_split=2, min_weight_fraction_leaf=0.0,\n                       presort='deprecated', random_state=0, splitter='best')"
     },
     "metadata": {},
     "execution_count": 40
    },
    {
     "output_type": "execute_result",
     "data": {
      "text/plain": "DecisionTreeClassifier(ccp_alpha=0.006305323922741232, class_weight=None,\n                       criterion='gini', max_depth=None, max_features=None,\n                       max_leaf_nodes=None, min_impurity_decrease=0.0,\n                       min_impurity_split=None, min_samples_leaf=1,\n                       min_samples_split=2, min_weight_fraction_leaf=0.0,\n                       presort='deprecated', random_state=0, splitter='best')"
     },
     "metadata": {},
     "execution_count": 40
    },
    {
     "output_type": "execute_result",
     "data": {
      "text/plain": "DecisionTreeClassifier(ccp_alpha=0.006957947344055637, class_weight=None,\n                       criterion='gini', max_depth=None, max_features=None,\n                       max_leaf_nodes=None, min_impurity_decrease=0.0,\n                       min_impurity_split=None, min_samples_leaf=1,\n                       min_samples_split=2, min_weight_fraction_leaf=0.0,\n                       presort='deprecated', random_state=0, splitter='best')"
     },
     "metadata": {},
     "execution_count": 40
    },
    {
     "output_type": "execute_result",
     "data": {
      "text/plain": "DecisionTreeClassifier(ccp_alpha=0.011100321315590161, class_weight=None,\n                       criterion='gini', max_depth=None, max_features=None,\n                       max_leaf_nodes=None, min_impurity_decrease=0.0,\n                       min_impurity_split=None, min_samples_leaf=1,\n                       min_samples_split=2, min_weight_fraction_leaf=0.0,\n                       presort='deprecated', random_state=0, splitter='best')"
     },
     "metadata": {},
     "execution_count": 40
    },
    {
     "output_type": "execute_result",
     "data": {
      "text/plain": "DecisionTreeClassifier(ccp_alpha=0.01733081440961927, class_weight=None,\n                       criterion='gini', max_depth=None, max_features=None,\n                       max_leaf_nodes=None, min_impurity_decrease=0.0,\n                       min_impurity_split=None, min_samples_leaf=1,\n                       min_samples_split=2, min_weight_fraction_leaf=0.0,\n                       presort='deprecated', random_state=0, splitter='best')"
     },
     "metadata": {},
     "execution_count": 40
    },
    {
     "output_type": "execute_result",
     "data": {
      "text/plain": "DecisionTreeClassifier(ccp_alpha=0.017966725956729906, class_weight=None,\n                       criterion='gini', max_depth=None, max_features=None,\n                       max_leaf_nodes=None, min_impurity_decrease=0.0,\n                       min_impurity_split=None, min_samples_leaf=1,\n                       min_samples_split=2, min_weight_fraction_leaf=0.0,\n                       presort='deprecated', random_state=0, splitter='best')"
     },
     "metadata": {},
     "execution_count": 40
    },
    {
     "output_type": "execute_result",
     "data": {
      "text/plain": "DecisionTreeClassifier(ccp_alpha=0.02238663058071499, class_weight=None,\n                       criterion='gini', max_depth=None, max_features=None,\n                       max_leaf_nodes=None, min_impurity_decrease=0.0,\n                       min_impurity_split=None, min_samples_leaf=1,\n                       min_samples_split=2, min_weight_fraction_leaf=0.0,\n                       presort='deprecated', random_state=0, splitter='best')"
     },
     "metadata": {},
     "execution_count": 40
    },
    {
     "output_type": "execute_result",
     "data": {
      "text/plain": "DecisionTreeClassifier(ccp_alpha=0.03898463644759573, class_weight=None,\n                       criterion='gini', max_depth=None, max_features=None,\n                       max_leaf_nodes=None, min_impurity_decrease=0.0,\n                       min_impurity_split=None, min_samples_leaf=1,\n                       min_samples_split=2, min_weight_fraction_leaf=0.0,\n                       presort='deprecated', random_state=0, splitter='best')"
     },
     "metadata": {},
     "execution_count": 40
    },
    {
     "output_type": "execute_result",
     "data": {
      "text/plain": "DecisionTreeClassifier(ccp_alpha=0.040429870304668686, class_weight=None,\n                       criterion='gini', max_depth=None, max_features=None,\n                       max_leaf_nodes=None, min_impurity_decrease=0.0,\n                       min_impurity_split=None, min_samples_leaf=1,\n                       min_samples_split=2, min_weight_fraction_leaf=0.0,\n                       presort='deprecated', random_state=0, splitter='best')"
     },
     "metadata": {},
     "execution_count": 40
    },
    {
     "output_type": "execute_result",
     "data": {
      "text/plain": "DecisionTreeClassifier(ccp_alpha=0.09845414289096716, class_weight=None,\n                       criterion='gini', max_depth=None, max_features=None,\n                       max_leaf_nodes=None, min_impurity_decrease=0.0,\n                       min_impurity_split=None, min_samples_leaf=1,\n                       min_samples_split=2, min_weight_fraction_leaf=0.0,\n                       presort='deprecated', random_state=0, splitter='best')"
     },
     "metadata": {},
     "execution_count": 40
    },
    {
     "output_type": "execute_result",
     "data": {
      "text/plain": "DecisionTreeClassifier(ccp_alpha=0.21638334659052066, class_weight=None,\n                       criterion='gini', max_depth=None, max_features=None,\n                       max_leaf_nodes=None, min_impurity_decrease=0.0,\n                       min_impurity_split=None, min_samples_leaf=1,\n                       min_samples_split=2, min_weight_fraction_leaf=0.0,\n                       presort='deprecated', random_state=0, splitter='best')"
     },
     "metadata": {},
     "execution_count": 40
    },
    {
     "output_type": "stream",
     "name": "stdout",
     "text": "Number of nodes in the last tree is: 1 with ccp_alpha: 0.21638334659052066\n"
    }
   ],
   "source": [
    "clfs = []\n",
    "for ccp_alpha in ccp_alphas:\n",
    "    clf = DecisionTreeClassifier(random_state=0, ccp_alpha=ccp_alpha)\n",
    "    clf.fit(X_train, y_train)\n",
    "    clfs.append(clf)\n",
    "print(\"Number of nodes in the last tree is: {} with ccp_alpha: {}\".format(\n",
    "      clfs[-1].tree_.node_count, ccp_alphas[-1]))"
   ]
  },
  {
   "cell_type": "code",
   "execution_count": 41,
   "metadata": {},
   "outputs": [
    {
     "output_type": "execute_result",
     "data": {
      "text/plain": "[<matplotlib.lines.Line2D at 0x1a2d949350>]"
     },
     "metadata": {},
     "execution_count": 41
    },
    {
     "output_type": "execute_result",
     "data": {
      "text/plain": "Text(0.5, 0, 'alpha')"
     },
     "metadata": {},
     "execution_count": 41
    },
    {
     "output_type": "execute_result",
     "data": {
      "text/plain": "Text(0, 0.5, 'number of nodes')"
     },
     "metadata": {},
     "execution_count": 41
    },
    {
     "output_type": "execute_result",
     "data": {
      "text/plain": "Text(0.5, 1.0, 'Number of nodes vs alpha')"
     },
     "metadata": {},
     "execution_count": 41
    },
    {
     "output_type": "execute_result",
     "data": {
      "text/plain": "[<matplotlib.lines.Line2D at 0x1a2d949450>]"
     },
     "metadata": {},
     "execution_count": 41
    },
    {
     "output_type": "execute_result",
     "data": {
      "text/plain": "Text(0.5, 0, 'alpha')"
     },
     "metadata": {},
     "execution_count": 41
    },
    {
     "output_type": "execute_result",
     "data": {
      "text/plain": "Text(0, 0.5, 'depth of tree')"
     },
     "metadata": {},
     "execution_count": 41
    },
    {
     "output_type": "execute_result",
     "data": {
      "text/plain": "Text(0.5, 1.0, 'Depth vs alpha')"
     },
     "metadata": {},
     "execution_count": 41
    }
   ],
   "source": [
    "clfs = clfs[:-1]\n",
    "ccp_alphas = ccp_alphas[:-1]\n",
    "\n",
    "node_counts = [clf.tree_.node_count for clf in clfs]\n",
    "depth = [clf.tree_.max_depth for clf in clfs]\n",
    "fig, ax = plt.subplots(2, 1)\n",
    "ax[0].plot(ccp_alphas, node_counts, marker='o', drawstyle=\"steps-post\")\n",
    "ax[0].set_xlabel(\"alpha\")\n",
    "ax[0].set_ylabel(\"number of nodes\")\n",
    "ax[0].set_title(\"Number of nodes vs alpha\")\n",
    "ax[1].plot(ccp_alphas, depth, marker='o', drawstyle=\"steps-post\")\n",
    "ax[1].set_xlabel(\"alpha\")\n",
    "ax[1].set_ylabel(\"depth of tree\")\n",
    "ax[1].set_title(\"Depth vs alpha\")\n",
    "fig.tight_layout()"
   ]
  },
  {
   "cell_type": "code",
   "execution_count": 42,
   "metadata": {},
   "outputs": [
    {
     "output_type": "execute_result",
     "data": {
      "text/plain": "Text(0.5, 0, 'alpha')"
     },
     "metadata": {},
     "execution_count": 42
    },
    {
     "output_type": "execute_result",
     "data": {
      "text/plain": "Text(0, 0.5, 'accuracy')"
     },
     "metadata": {},
     "execution_count": 42
    },
    {
     "output_type": "execute_result",
     "data": {
      "text/plain": "Text(0.5, 1.0, 'Accuracy vs alpha for training and testing sets')"
     },
     "metadata": {},
     "execution_count": 42
    },
    {
     "output_type": "execute_result",
     "data": {
      "text/plain": "[<matplotlib.lines.Line2D at 0x1a2e0d28d0>]"
     },
     "metadata": {},
     "execution_count": 42
    },
    {
     "output_type": "execute_result",
     "data": {
      "text/plain": "[<matplotlib.lines.Line2D at 0x1a2e0c3a90>]"
     },
     "metadata": {},
     "execution_count": 42
    },
    {
     "output_type": "execute_result",
     "data": {
      "text/plain": "<matplotlib.legend.Legend at 0x1a2d9751d0>"
     },
     "metadata": {},
     "execution_count": 42
    }
   ],
   "source": [
    "train_scores = [clf.score(X_train, y_train) for clf in clfs]\n",
    "test_scores = [clf.score(X_test, y_test) for clf in clfs]\n",
    "\n",
    "fig, ax = plt.subplots()\n",
    "ax.set_xlabel(\"alpha\")\n",
    "ax.set_ylabel(\"accuracy\")\n",
    "ax.set_title(\"Accuracy vs alpha for training and testing sets\")\n",
    "ax.plot(ccp_alphas, train_scores, marker='o', label=\"train\",\n",
    "        drawstyle=\"steps-post\")\n",
    "ax.plot(ccp_alphas, test_scores, marker='o', label=\"test\",\n",
    "        drawstyle=\"steps-post\")\n",
    "ax.legend()\n",
    "plt.show()"
   ]
  },
  {
   "cell_type": "code",
   "execution_count": null,
   "metadata": {},
   "outputs": [],
   "source": []
  }
 ]
}